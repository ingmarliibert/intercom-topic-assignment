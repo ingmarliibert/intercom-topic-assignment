{
 "cells": [
  {
   "cell_type": "code",
   "execution_count": null,
   "metadata": {},
   "outputs": [],
   "source": [
    "import json\n",
    "\n",
    "with open(\"english_texts.json\") as file:\n",
    "    english_texts = json.loads(file.read())\n",
    "    \n",
    "with open(\"new_lems.json\") as file:\n",
    "    lems = json.loads(file.read())"
   ]
  },
  {
   "cell_type": "code",
   "execution_count": null,
   "metadata": {},
   "outputs": [],
   "source": [
    "lems_by_id = {\" \".join(lems[id]): id for id in lems}"
   ]
  },
  {
   "cell_type": "code",
   "execution_count": null,
   "metadata": {},
   "outputs": [],
   "source": [
    "english_texts_by_id = {}\n",
    "for text in english_texts:\n",
    "    id = lems_by_id[text]\n",
    "    english_texts_by_id[id] = text"
   ]
  },
  {
   "cell_type": "code",
   "execution_count": null,
   "metadata": {},
   "outputs": [],
   "source": [
    "with open(\"english_texts_by_id.json\",\"w\") as file:\n",
    "    json.dump(english_texts_by_id, file)\n",
    "    \n",
    "with open(\"ids_by_lems.json\",\"w\") as file:\n",
    "    json.dump(lems_by_id, file)"
   ]
  }
 ],
 "metadata": {
  "kernelspec": {
   "display_name": "Python 3",
   "language": "python",
   "name": "python3"
  },
  "language_info": {
   "codemirror_mode": {
    "name": "ipython",
    "version": 3
   },
   "file_extension": ".py",
   "mimetype": "text/x-python",
   "name": "python",
   "nbconvert_exporter": "python",
   "pygments_lexer": "ipython3",
   "version": "3.8.5"
  }
 },
 "nbformat": 4,
 "nbformat_minor": 4
}
