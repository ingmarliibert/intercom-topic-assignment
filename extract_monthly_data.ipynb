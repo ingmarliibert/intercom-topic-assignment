{
 "cells": [
  {
   "cell_type": "code",
   "execution_count": 1,
   "metadata": {},
   "outputs": [],
   "source": [
    "import os\n",
    "import re\n",
    "from collections import defaultdict"
   ]
  },
  {
   "cell_type": "code",
   "execution_count": 3,
   "metadata": {},
   "outputs": [
    {
     "data": {
      "text/plain": [
       "True"
      ]
     },
     "execution_count": 3,
     "metadata": {},
     "output_type": "execute_result"
    }
   ],
   "source": [
    "'' == ''"
   ]
  },
  {
   "cell_type": "code",
   "execution_count": 4,
   "metadata": {},
   "outputs": [
    {
     "name": "stdout",
     "output_type": "stream",
     "text": [
      "329564\n",
      "10\n"
     ]
    }
   ],
   "source": [
    "import pandas as pd\n",
    "\n",
    "data = defaultdict(lambda: {'topic': '', 'content': '', 'messages': [], 'month': ''})\n",
    "\n",
    "for file_path in os.listdir(\"cleaned_intercom_messages\"):\n",
    "    csv = pd.read_csv(f\"cleaned_intercom_messages/{file_path}\")\n",
    "    csv = csv[csv['clean_body'].notna()]\n",
    "    bodies = csv[\"clean_body\"]\n",
    "    ids = zip(csv[\"key_intercomconversation\"], csv[\"key_iteration\"])\n",
    "    for id, body in zip(ids, bodies):\n",
    "        m = re.search(\" Selected category: (.+) Content: (.+) uid:\", body)\n",
    "        if m is not None:\n",
    "            data[id]['topic'] = m.group(1)\n",
    "            data[id]['content'] = m.group(2)\n",
    "        else:\n",
    "            data[id]['messages'].append(body)\n",
    "            if data[id]['month'] == '':\n",
    "                data[id]['month'] = file_path.split(\"-\")[1]\n",
    "\n",
    "df = pd.DataFrame.from_dict(data, orient=\"index\")\n",
    "print(len(df[df[\"topic\"] == '']))\n",
    "print(len(df[df[\"topic\"] != '']))"
   ]
  },
  {
   "cell_type": "code",
   "execution_count": 63,
   "metadata": {},
   "outputs": [
    {
     "data": {
      "text/html": [
       "<div>\n",
       "<style scoped>\n",
       "    .dataframe tbody tr th:only-of-type {\n",
       "        vertical-align: middle;\n",
       "    }\n",
       "\n",
       "    .dataframe tbody tr th {\n",
       "        vertical-align: top;\n",
       "    }\n",
       "\n",
       "    .dataframe thead th {\n",
       "        text-align: right;\n",
       "    }\n",
       "</style>\n",
       "<table border=\"1\" class=\"dataframe\">\n",
       "  <thead>\n",
       "    <tr style=\"text-align: right;\">\n",
       "      <th></th>\n",
       "      <th>topic</th>\n",
       "      <th>content</th>\n",
       "      <th>messages</th>\n",
       "      <th>month</th>\n",
       "    </tr>\n",
       "  </thead>\n",
       "  <tbody>\n",
       "    <tr>\n",
       "      <th>13672140114_5</th>\n",
       "      <td></td>\n",
       "      <td></td>\n",
       "      <td>[{{name}} im also talking ot this guy, lll, je...</td>\n",
       "      <td>01</td>\n",
       "    </tr>\n",
       "    <tr>\n",
       "      <th>13672140114_6</th>\n",
       "      <td></td>\n",
       "      <td></td>\n",
       "      <td>[Hm]</td>\n",
       "      <td>01</td>\n",
       "    </tr>\n",
       "    <tr>\n",
       "      <th>13672140114_8</th>\n",
       "      <td></td>\n",
       "      <td></td>\n",
       "      <td>[🔗 Riley Young linked SE-{{number}} Blank emai...</td>\n",
       "      <td>04</td>\n",
       "    </tr>\n",
       "    <tr>\n",
       "      <th>13675529033_1</th>\n",
       "      <td></td>\n",
       "      <td></td>\n",
       "      <td>[Guys, please help the customer when he comes ...</td>\n",
       "      <td>03</td>\n",
       "    </tr>\n",
       "    <tr>\n",
       "      <th>13675881994_3</th>\n",
       "      <td></td>\n",
       "      <td></td>\n",
       "      <td>[Record a video]</td>\n",
       "      <td>10</td>\n",
       "    </tr>\n",
       "  </tbody>\n",
       "</table>\n",
       "</div>"
      ],
      "text/plain": [
       "              topic content  \\\n",
       "13672140114_5                 \n",
       "13672140114_6                 \n",
       "13672140114_8                 \n",
       "13675529033_1                 \n",
       "13675881994_3                 \n",
       "\n",
       "                                                        messages month  \n",
       "13672140114_5  [{{name}} im also talking ot this guy, lll, je...    01  \n",
       "13672140114_6                                               [Hm]    01  \n",
       "13672140114_8  [🔗 Riley Young linked SE-{{number}} Blank emai...    04  \n",
       "13675529033_1  [Guys, please help the customer when he comes ...    03  \n",
       "13675881994_3                                   [Record a video]    10  "
      ]
     },
     "execution_count": 63,
     "metadata": {},
     "output_type": "execute_result"
    }
   ],
   "source": [
    "df.head()"
   ]
  },
  {
   "cell_type": "code",
   "execution_count": 17,
   "metadata": {},
   "outputs": [
    {
     "data": {
      "text/plain": [
       "'1_2'"
      ]
     },
     "execution_count": 17,
     "metadata": {},
     "output_type": "execute_result"
    }
   ],
   "source": [
    "\"_\".join((\"1\", \"2\"))"
   ]
  },
  {
   "cell_type": "code",
   "execution_count": 20,
   "metadata": {},
   "outputs": [],
   "source": [
    "new_ids = [\"_\".join([str(tup[0]), str(tup[1])]) for tup in df.index]"
   ]
  },
  {
   "cell_type": "code",
   "execution_count": 31,
   "metadata": {},
   "outputs": [],
   "source": [
    "df.index = new_ids"
   ]
  },
  {
   "cell_type": "code",
   "execution_count": 32,
   "metadata": {},
   "outputs": [
    {
     "data": {
      "text/html": [
       "<div>\n",
       "<style scoped>\n",
       "    .dataframe tbody tr th:only-of-type {\n",
       "        vertical-align: middle;\n",
       "    }\n",
       "\n",
       "    .dataframe tbody tr th {\n",
       "        vertical-align: top;\n",
       "    }\n",
       "\n",
       "    .dataframe thead th {\n",
       "        text-align: right;\n",
       "    }\n",
       "</style>\n",
       "<table border=\"1\" class=\"dataframe\">\n",
       "  <thead>\n",
       "    <tr style=\"text-align: right;\">\n",
       "      <th></th>\n",
       "      <th>topic</th>\n",
       "      <th>content</th>\n",
       "      <th>messages</th>\n",
       "      <th>month</th>\n",
       "    </tr>\n",
       "  </thead>\n",
       "  <tbody>\n",
       "    <tr>\n",
       "      <th>13672140114_5</th>\n",
       "      <td></td>\n",
       "      <td></td>\n",
       "      <td>[{{name}} im also talking ot this guy, lll, je...</td>\n",
       "      <td>01</td>\n",
       "    </tr>\n",
       "    <tr>\n",
       "      <th>13672140114_6</th>\n",
       "      <td></td>\n",
       "      <td></td>\n",
       "      <td>[Hm]</td>\n",
       "      <td>01</td>\n",
       "    </tr>\n",
       "    <tr>\n",
       "      <th>13672140114_8</th>\n",
       "      <td></td>\n",
       "      <td></td>\n",
       "      <td>[🔗 Riley Young linked SE-{{number}} Blank emai...</td>\n",
       "      <td>04</td>\n",
       "    </tr>\n",
       "    <tr>\n",
       "      <th>13675529033_1</th>\n",
       "      <td></td>\n",
       "      <td></td>\n",
       "      <td>[Guys, please help the customer when he comes ...</td>\n",
       "      <td>03</td>\n",
       "    </tr>\n",
       "    <tr>\n",
       "      <th>13675881994_3</th>\n",
       "      <td></td>\n",
       "      <td></td>\n",
       "      <td>[Record a video]</td>\n",
       "      <td>10</td>\n",
       "    </tr>\n",
       "  </tbody>\n",
       "</table>\n",
       "</div>"
      ],
      "text/plain": [
       "              topic content  \\\n",
       "13672140114_5                 \n",
       "13672140114_6                 \n",
       "13672140114_8                 \n",
       "13675529033_1                 \n",
       "13675881994_3                 \n",
       "\n",
       "                                                        messages month  \n",
       "13672140114_5  [{{name}} im also talking ot this guy, lll, je...    01  \n",
       "13672140114_6                                               [Hm]    01  \n",
       "13672140114_8  [🔗 Riley Young linked SE-{{number}} Blank emai...    04  \n",
       "13675529033_1  [Guys, please help the customer when he comes ...    03  \n",
       "13675881994_3                                   [Record a video]    10  "
      ]
     },
     "execution_count": 32,
     "metadata": {},
     "output_type": "execute_result"
    }
   ],
   "source": [
    "df.head()"
   ]
  },
  {
   "cell_type": "code",
   "execution_count": 41,
   "metadata": {},
   "outputs": [],
   "source": [
    "def get_monthly_data(original_data: pd.DataFrame, preprocessed_data: dict, month: str) -> dict:\n",
    "    ids = original_data[original_data['month'] == month].index\n",
    "    monthly_data = {}\n",
    "    for _id in ids:\n",
    "        if _id in preprocessed_data.keys():\n",
    "            monthly_data[_id] = preprocessed_data[_id]\n",
    "        \n",
    "    return monthly_data"
   ]
  },
  {
   "cell_type": "code",
   "execution_count": 46,
   "metadata": {},
   "outputs": [],
   "source": [
    "import json"
   ]
  },
  {
   "cell_type": "code",
   "execution_count": 52,
   "metadata": {},
   "outputs": [],
   "source": [
    "with open(\"new_lems.json\") as f:\n",
    "    preprocessed = json.loads(f.read())"
   ]
  },
  {
   "cell_type": "code",
   "execution_count": 61,
   "metadata": {},
   "outputs": [],
   "source": [
    "months = []\n",
    "\n",
    "for month in ['01', '02', '03', '04', '05', '06', '07', '08', '09', '10']:\n",
    "    months.append(get_monthly_data(df, preprocessed, month))"
   ]
  }
 ],
 "metadata": {
  "kernelspec": {
   "display_name": "Python 3",
   "language": "python",
   "name": "python3"
  },
  "language_info": {
   "codemirror_mode": {
    "name": "ipython",
    "version": 3
   },
   "file_extension": ".py",
   "mimetype": "text/x-python",
   "name": "python",
   "nbconvert_exporter": "python",
   "pygments_lexer": "ipython3",
   "version": "3.7.3"
  }
 },
 "nbformat": 4,
 "nbformat_minor": 2
}
