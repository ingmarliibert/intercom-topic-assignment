{
 "cells": [
  {
   "cell_type": "code",
   "execution_count": null,
   "metadata": {},
   "outputs": [],
   "source": [
    "import os\n",
    "import re\n",
    "from collections import defaultdict"
   ]
  },
  {
   "cell_type": "code",
   "execution_count": null,
   "metadata": {},
   "outputs": [],
   "source": [
    "import pandas as pd\n",
    "\n",
    "data = defaultdict(lambda: {'topic': '', 'content': '', 'messages': [], 'month': ''})\n",
    "\n",
    "for file_path in os.listdir(\"cleaned_intercom_messages\"):\n",
    "    csv = pd.read_csv(f\"cleaned_intercom_messages/{file_path}\")\n",
    "    csv = csv[csv['clean_body'].notna()]\n",
    "    bodies = csv[\"clean_body\"]\n",
    "    ids = zip(csv[\"key_intercomconversation\"], csv[\"key_iteration\"])\n",
    "    for id, body in zip(ids, bodies):\n",
    "        m = re.search(\" Selected category: (.+) Content: (.+) uid:\", body)\n",
    "        if m is not None:\n",
    "            data[id]['topic'] = m.group(1)\n",
    "            data[id]['content'] = m.group(2)\n",
    "        else:\n",
    "            data[id]['messages'].append(body)\n",
    "            if data[id]['month'] == '':\n",
    "                data[id]['month'] = file_path.split(\"-\")[1]\n",
    "\n",
    "df = pd.DataFrame.from_dict(data, orient=\"index\")\n",
    "print(len(df[df[\"topic\"] == '']))\n",
    "print(len(df[df[\"topic\"] != '']))"
   ]
  },
  {
   "cell_type": "code",
   "execution_count": null,
   "metadata": {},
   "outputs": [],
   "source": [
    "df.head()"
   ]
  },
  {
   "cell_type": "code",
   "execution_count": null,
   "metadata": {},
   "outputs": [],
   "source": [
    "new_ids = [\"_\".join([str(tup[0]), str(tup[1])]) for tup in df.index]"
   ]
  },
  {
   "cell_type": "code",
   "execution_count": null,
   "metadata": {},
   "outputs": [],
   "source": [
    "df.index = new_ids"
   ]
  },
  {
   "cell_type": "code",
   "execution_count": null,
   "metadata": {},
   "outputs": [],
   "source": [
    "df.head()"
   ]
  },
  {
   "cell_type": "code",
   "execution_count": null,
   "metadata": {},
   "outputs": [],
   "source": [
    "def get_monthly_data(original_data: pd.DataFrame, preprocessed_data: dict, month: str) -> dict:\n",
    "    ids = original_data[original_data['month'] == month].index\n",
    "    monthly_data = {}\n",
    "    for _id in ids:\n",
    "        if _id in preprocessed_data.keys():\n",
    "            monthly_data[_id] = preprocessed_data[_id]\n",
    "        \n",
    "    return monthly_data"
   ]
  },
  {
   "cell_type": "code",
   "execution_count": null,
   "metadata": {},
   "outputs": [],
   "source": [
    "import json"
   ]
  },
  {
   "cell_type": "code",
   "execution_count": null,
   "metadata": {},
   "outputs": [],
   "source": [
    "with open(\"english_texts_by_id.json\") as f:\n",
    "    preprocessed = json.loads(f.read())"
   ]
  },
  {
   "cell_type": "code",
   "execution_count": null,
   "metadata": {},
   "outputs": [],
   "source": [
    "len(preprocessed)"
   ]
  },
  {
   "cell_type": "code",
   "execution_count": null,
   "metadata": {},
   "outputs": [],
   "source": [
    "months = []\n",
    "\n",
    "for month in ['01', '02', '03', '04', '05', '06', '07', '08', '09', '10']:\n",
    "    months.append(get_monthly_data(df, preprocessed, month))"
   ]
  },
  {
   "cell_type": "code",
   "execution_count": null,
   "metadata": {},
   "outputs": [],
   "source": [
    "from sklearn.feature_extraction.text import TfidfVectorizer\n",
    "from sklearn.decomposition import LatentDirichletAllocation"
   ]
  },
  {
   "cell_type": "code",
   "execution_count": null,
   "metadata": {},
   "outputs": [],
   "source": [
    "import time\n",
    "from datetime import timedelta"
   ]
  },
  {
   "cell_type": "code",
   "execution_count": null,
   "metadata": {},
   "outputs": [],
   "source": [
    "models = []\n",
    "\n",
    "print(\"Start:\", str(timedelta(seconds=time.time()+7200)).split(\", \")[1])\n",
    "\n",
    "for i, month in enumerate(months):\n",
    "    lists = month.values()\n",
    "    X = TfidfVectorizer().fit_transform(lists)\n",
    "    lda = LatentDirichletAllocation(n_components=7)\n",
    "    lda.fit(X)\n",
    "    models.append(lda)\n",
    "    print(f\"Month {i} done at:\", str(timedelta(seconds=time.time()+7200)).split(\", \")[1])"
   ]
  },
  {
   "cell_type": "code",
   "execution_count": null,
   "metadata": {},
   "outputs": [],
   "source": [
    "lists = months[2].values()\n",
    "X = TfidfVectorizer().fit_transform(lists)\n",
    "probs = models[2].transform(X)"
   ]
  },
  {
   "cell_type": "code",
   "execution_count": null,
   "metadata": {},
   "outputs": [],
   "source": [
    "import numpy as np"
   ]
  },
  {
   "cell_type": "code",
   "execution_count": null,
   "metadata": {},
   "outputs": [],
   "source": [
    "list(lists)[0]"
   ]
  },
  {
   "cell_type": "code",
   "execution_count": null,
   "metadata": {},
   "outputs": [],
   "source": [
    "topics_2 = {}\n",
    "\n",
    "for i in range(7):\n",
    "    topics_2[i] = []\n",
    "\n",
    "vals = list(lists)\n",
    "    \n",
    "for i, prob in enumerate(probs):\n",
    "    index = np.argmax(prob)\n",
    "    topics_2[index].append(vals[i])"
   ]
  },
  {
   "cell_type": "code",
   "execution_count": null,
   "metadata": {},
   "outputs": [],
   "source": [
    "for k, v in topics_2.items():\n",
    "    print(k, len(v))"
   ]
  },
  {
   "cell_type": "code",
   "execution_count": null,
   "metadata": {},
   "outputs": [],
   "source": [
    "topics_2[5]"
   ]
  },
  {
   "cell_type": "code",
   "execution_count": null,
   "metadata": {},
   "outputs": [],
   "source": [
    "model = LatentDirichletAllocation(n_components=25)\n",
    "X_new = TfidfVectorizer().fit_transform(topics_0[6])\n",
    "model.fit(X_new)"
   ]
  },
  {
   "cell_type": "code",
   "execution_count": null,
   "metadata": {},
   "outputs": [],
   "source": [
    "probabilities = model.transform(X_new)"
   ]
  },
  {
   "cell_type": "code",
   "execution_count": null,
   "metadata": {},
   "outputs": [],
   "source": [
    "topics_0_new = {}\n",
    "\n",
    "for i in range(25):\n",
    "    topics_0_new[i] = []\n",
    "\n",
    "vals = list(topics_0[6])\n",
    "    \n",
    "for i, prob in enumerate(probabilities):\n",
    "    index = np.argmax(prob)\n",
    "    topics_0_new[index].append(vals[i])"
   ]
  },
  {
   "cell_type": "code",
   "execution_count": null,
   "metadata": {},
   "outputs": [],
   "source": [
    "for k, v in topics_0_new.items():\n",
    "    print(k, len(v))"
   ]
  },
  {
   "cell_type": "code",
   "execution_count": null,
   "metadata": {},
   "outputs": [],
   "source": [
    "topics_0_new[0]"
   ]
  },
  {
   "cell_type": "code",
   "execution_count": null,
   "metadata": {},
   "outputs": [],
   "source": [
    "topics_0[6][0]"
   ]
  },
  {
   "cell_type": "code",
   "execution_count": null,
   "metadata": {},
   "outputs": [],
   "source": [
    "from collections import defaultdict\n",
    "\n",
    "counter = defaultdict(lambda: defaultdict(int))\n",
    "n = X.shape[0]\n",
    "transformed = models[2].transform(X[:n])\n",
    "for i in range(n):\n",
    "    counted_words = defaultdict(int)\n",
    "    text = list(months[2].values())[i]\n",
    "    topic = transformed[i].argmax()\n",
    "    for word in text.split():\n",
    "        counter[topic][word] += 1\n",
    "\n",
    "dict2 = dict()\n",
    "\n",
    "for topic in counter:\n",
    "    for word in counter[topic]:\n",
    "        all_contain = True\n",
    "        for t in counter:\n",
    "            all_contain = all_contain and word in counter[t]\n",
    "        \n",
    "                \n",
    "    items = list(counter[topic].items())\n",
    "    items.sort(key=lambda x: x[1], reverse=True)\n",
    "    dict2[topic] = items[0:1000]\n",
    "    \n",
    "dict2"
   ]
  },
  {
   "cell_type": "code",
   "execution_count": null,
   "metadata": {},
   "outputs": [],
   "source": [
    "for k, v in dict2.items():\n",
    "    for word in v:\n",
    "        if 'corona' in word[0] or 'covid' in word[0]:\n",
    "            print(k, word)"
   ]
  },
  {
   "cell_type": "markdown",
   "metadata": {},
   "source": [
    "---"
   ]
  },
  {
   "cell_type": "markdown",
   "metadata": {},
   "source": [
    "### OTSIME KOROONAT"
   ]
  },
  {
   "cell_type": "code",
   "execution_count": null,
   "metadata": {},
   "outputs": [],
   "source": [
    "corona = {}\n",
    "\n",
    "for i in range(10):\n",
    "    corona[i] = []"
   ]
  },
  {
   "cell_type": "code",
   "execution_count": null,
   "metadata": {},
   "outputs": [],
   "source": [
    "for i in range(10):\n",
    "    lists = months[i].values()\n",
    "    X = TfidfVectorizer().fit_transform(lists)\n",
    "    probs = models[i].transform(X)\n",
    "    \n",
    "    topics = {}\n",
    "\n",
    "    for idx in range(7):\n",
    "        topics[idx] = []\n",
    "\n",
    "    vals = list(lists)\n",
    "\n",
    "    for idx, prob in enumerate(probs):\n",
    "        index = np.argmax(prob)\n",
    "        topics[index].append(vals[idx])\n",
    "        \n",
    "        \n",
    "    counter = defaultdict(lambda: defaultdict(int))\n",
    "    n = X.shape[0]\n",
    "    transformed = models[i].transform(X[:n])\n",
    "    for idx in range(n):\n",
    "        counted_words = defaultdict(int)\n",
    "        text = list(months[i].values())[idx]\n",
    "        topic = transformed[idx].argmax()\n",
    "        for word in text.split():\n",
    "            counter[topic][word] += 1\n",
    "\n",
    "    dict2 = dict()\n",
    "\n",
    "    for topic in counter:\n",
    "        for word in counter[topic]:\n",
    "            all_contain = True\n",
    "            for t in counter:\n",
    "                all_contain = all_contain and word in counter[t]\n",
    "\n",
    "\n",
    "        items = list(counter[topic].items())\n",
    "        items.sort(key=lambda x: x[1], reverse=True)\n",
    "        dict2[topic] = items[0:2000]\n",
    "        \n",
    "    for k, v in dict2.items():\n",
    "        for word in v:\n",
    "            if 'corona' in word[0] or 'covid' in word[0]:\n",
    "                corona[i].append([k, word])"
   ]
  },
  {
   "cell_type": "code",
   "execution_count": null,
   "metadata": {},
   "outputs": [],
   "source": [
    "corona"
   ]
  },
  {
   "cell_type": "code",
   "execution_count": null,
   "metadata": {},
   "outputs": [],
   "source": [
    "corona_counts = {}\n",
    "\n",
    "for i in range(10):\n",
    "    corona_counts[i] = {}\n",
    "    for topic in corona[i]:\n",
    "        topic_nr = topic[0]\n",
    "        c = topic[1]\n",
    "        if topic_nr in corona_counts[i].keys():\n",
    "            corona_counts[i][topic_nr] += c[1]\n",
    "        else:\n",
    "            corona_counts[i][topic_nr] = c[1]"
   ]
  },
  {
   "cell_type": "code",
   "execution_count": null,
   "metadata": {},
   "outputs": [],
   "source": [
    "corona_counts"
   ]
  },
  {
   "cell_type": "code",
   "execution_count": null,
   "metadata": {},
   "outputs": [],
   "source": [
    "from matplotlib import pyplot as plt"
   ]
  },
  {
   "cell_type": "code",
   "execution_count": null,
   "metadata": {},
   "outputs": [],
   "source": [
    "df = pd.DataFrame.from_dict(corona_counts).fillna(0)"
   ]
  },
  {
   "cell_type": "code",
   "execution_count": null,
   "metadata": {},
   "outputs": [],
   "source": [
    "df = df.astype(int)\n",
    "df"
   ]
  },
  {
   "cell_type": "code",
   "execution_count": null,
   "metadata": {},
   "outputs": [],
   "source": [
    "import seaborn as sns"
   ]
  },
  {
   "cell_type": "code",
   "execution_count": null,
   "metadata": {},
   "outputs": [],
   "source": [
    "[\"y\"]*3+[\"z\"]*3"
   ]
  },
  {
   "cell_type": "code",
   "execution_count": null,
   "metadata": {},
   "outputs": [],
   "source": [
    "df.loc[5]"
   ]
  },
  {
   "cell_type": "code",
   "execution_count": null,
   "metadata": {},
   "outputs": [],
   "source": [
    "list(df[0])+list(df[1])"
   ]
  },
  {
   "cell_type": "code",
   "execution_count": null,
   "metadata": {},
   "outputs": [],
   "source": [
    "data = pd.DataFrame(zip([\"january\", \"february\", \"march\", \"april\", \"may\", \"june\", \"july\", \"august\", \"september\", \"october\"]*6, [\"0\"]*6+[\"1\"]*6+[\"2\"]*6+[\"3\"]*6+[\"5\"]*6+[\"6\"]*6, list(df.loc[0])+list(df.loc[1])+list(df.loc[2])+list(df.loc[3])+list(df.loc[5])+list(df.loc[6])), columns=[\"months\", \"topic\", \"results\"])\n",
    "plt.figure(figsize=(10, 6))\n",
    "sns.barplot(x=\"months\", y=\"results\", hue=\"topic\", data=data)"
   ]
  },
  {
   "cell_type": "code",
   "execution_count": null,
   "metadata": {},
   "outputs": [],
   "source": [
    "data = pd.DataFrame(zip([\"january\", \"february\", \"march\", \"april\", \"may\", \"june\", \"july\", \"august\", \"september\", \"october\"]*6, [\"0\"]*6+[\"1\"]*6+[\"2\"]*6+[\"3\"]*6+[\"5\"]*6+[\"6\"]*6, list(df[0])+list(df[1])+list(df[2])+list(df[3])+list(df[5])+list(df[6])+list(df[7])+list(df[8])+list(df[9])), columns=[\"months\", \"topic\", \"results\"])\n",
    "plt.figure(figsize=(10, 6))\n",
    "sns.barplot(x=\"months\", y=\"results\", hue=\"topic\", data=data)"
   ]
  },
  {
   "cell_type": "code",
   "execution_count": null,
   "metadata": {},
   "outputs": [],
   "source": [
    "df.loc[3]"
   ]
  },
  {
   "cell_type": "code",
   "execution_count": null,
   "metadata": {},
   "outputs": [],
   "source": [
    "df2 = df.drop(3, axis=1)\n",
    "df2"
   ]
  },
  {
   "cell_type": "code",
   "execution_count": null,
   "metadata": {},
   "outputs": [],
   "source": [
    "df.T.plot(kind='bar')"
   ]
  },
  {
   "cell_type": "code",
   "execution_count": null,
   "metadata": {},
   "outputs": [],
   "source": [
    "plt.bar(df.index, df[2])"
   ]
  },
  {
   "cell_type": "code",
   "execution_count": null,
   "metadata": {},
   "outputs": [],
   "source": [
    "fig, ax = plt.subplots(nrows=2, ncols=4, figsize=(12, 5))\n",
    "plt.subplots_adjust(top=0.99, bottom=0.01, hspace=0.35, wspace=0.7)\n",
    "\n",
    "current = 2\n",
    "months = [\"January\", \"February\", \"March\", \"April\", \"May\", \"June\", \"July\", \"August\", \"September\", \"October\"]\n",
    "        \n",
    "for row in ax:\n",
    "    for col in row:\n",
    "        col.bar(df.index, df[current])\n",
    "        col.set_xticks(range(7))\n",
    "        col.set_xlabel(\"Topics\")\n",
    "        col.set_ylabel(\"Frequency\")\n",
    "        col.title.set_text(months[current])\n",
    "        current += 1"
   ]
  },
  {
   "cell_type": "code",
   "execution_count": null,
   "metadata": {},
   "outputs": [],
   "source": [
    "data = pd.DataFrame(zip([\"january\", \"february\", \"march\", \"may\", \"june\", \"july\", \"august\", \"september\", \"october\"]*9, [\"0\"]*9+[\"1\"]*9+[\"2\"]*9+[\"3\"]*9+[\"5\"]*9+[\"6\"]*9, list(df2.loc[0])+list(df2.loc[1])+list(df2.loc[2])+list(df2.loc[3])+list(df2.loc[5])+list(df2.loc[6])), columns=[\"months\", \"topic\", \"results\"])\n",
    "plt.figure(figsize=(17, 7))\n",
    "sns.barplot(x=\"months\", y=\"results\", hue=\"topic\", data=data)"
   ]
  },
  {
   "cell_type": "code",
   "execution_count": null,
   "metadata": {},
   "outputs": [],
   "source": [
    "data"
   ]
  },
  {
   "cell_type": "code",
   "execution_count": null,
   "metadata": {},
   "outputs": [],
   "source": [
    "from collections import defaultdict\n",
    "\n",
    "counter = defaultdict(lambda: defaultdict(int))\n",
    "n = X_new.shape[0]\n",
    "transformed = model.transform(X_new[:n])\n",
    "for i in range(n):\n",
    "    counted_words = defaultdict(int)\n",
    "    text = topics_0[6][i]\n",
    "    topic = transformed[i].argmax()\n",
    "    for word in text.split():\n",
    "        counter[topic][word] += 1\n",
    "\n",
    "dict2 = dict()\n",
    "\n",
    "for topic in counter:\n",
    "    for word in counter[topic]:\n",
    "        all_contain = True\n",
    "        for t in counter:\n",
    "            all_contain = all_contain and word in counter[t]\n",
    "        \n",
    "                \n",
    "    items = list(counter[topic].items())\n",
    "    items.sort(key=lambda x: x[1], reverse=True)\n",
    "    dict2[topic] = items[0:10]\n",
    "    \n",
    "dict2"
   ]
  },
  {
   "cell_type": "code",
   "execution_count": null,
   "metadata": {},
   "outputs": [],
   "source": [
    "counter.keys()"
   ]
  }
 ],
 "metadata": {
  "kernelspec": {
   "display_name": "Python 3",
   "language": "python",
   "name": "python3"
  },
  "language_info": {
   "codemirror_mode": {
    "name": "ipython",
    "version": 3
   },
   "file_extension": ".py",
   "mimetype": "text/x-python",
   "name": "python",
   "nbconvert_exporter": "python",
   "pygments_lexer": "ipython3",
   "version": "3.8.5"
  }
 },
 "nbformat": 4,
 "nbformat_minor": 2
}
