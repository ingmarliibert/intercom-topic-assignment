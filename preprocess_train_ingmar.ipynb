{
 "cells": [
  {
   "cell_type": "code",
   "execution_count": 1,
   "metadata": {},
   "outputs": [],
   "source": [
    "from langdetect import detect\n",
    "import os\n",
    "import re\n",
    "from collections import defaultdict"
   ]
  },
  {
   "cell_type": "code",
   "execution_count": 2,
   "metadata": {},
   "outputs": [
    {
     "name": "stdout",
     "output_type": "stream",
     "text": [
      "273417\n",
      "10\n"
     ]
    }
   ],
   "source": [
    "import pandas as pd\n",
    "\n",
    "data = defaultdict(lambda: {'topic': '', 'content': '', 'messages': []})\n",
    "\n",
    "for file_path in os.listdir(\"cleaned_intercom_messages\"):\n",
    "    csv = pd.read_csv(f\"cleaned_intercom_messages/{file_path}\")\n",
    "    csv = csv[csv['clean_body'].notna()]\n",
    "    bodies = csv[\"clean_body\"]\n",
    "    ids = csv[\"key_intercomconversation\"]\n",
    "    for id, body in zip(ids, bodies):\n",
    "        m = re.search(\" Selected category: (.+) Content: (.+) uid:\", body)\n",
    "        if m is not None:\n",
    "            data[id]['topic'] = m.group(1)\n",
    "            data[id]['content'] = m.group(2)\n",
    "        else:\n",
    "            data[id]['messages'].append(body)\n",
    "\n",
    "df = pd.DataFrame.from_dict(data, orient=\"index\")\n",
    "print(len(df[df[\"topic\"] == '']))\n",
    "print(len(df[df[\"topic\"] != '']))"
   ]
  },
  {
   "cell_type": "code",
   "execution_count": 3,
   "metadata": {},
   "outputs": [
    {
     "data": {
      "text/plain": [
       "[\"question. I wanted to send out a group email. Just want to make sure; For the respondents, there is no difference for them if I sent the emails individually it's simply sending the same email again and again to a group of people, right?\",\n",
       " \"Pipedrive Support Bot here! Ask me any question about Pipedrive and I'll be happy to assist you 😊 Although I am a bot, I'll do as best as I can to solve your queries. If there's something I don't understand I'll direct you to my team members.\",\n",
       " 'You can send an email to large groups of your leads using our Group Emailing function. It is available in the following places: The List View of the Deals tab The List View of the Contacts tab The List View of the Activities tab The Timeline view of the Contacts tab You can select up to one hundred contacts when sending one email. Once multiple contacts are selected in any of the places listed above, the Send group email button will appear. Once you click this button, you will be prompted to provide the relevant details about the email you wish to send to that group of contacts. Afterwards, click the Send message button. You can find more details of this feature here: Group Emailing',\n",
       " 'I am following up to let you know that I am still here to help you. Please let me know if I can further assist you and feel free to fire your questions my way. If not, please type \"1\" to close this conversation. 😊 1) My issue is resolved 2) Chat with human',\n",
       " 'Got it. I am directing you to our support team now and one of my human colleagues will be with you shortly to look into this.',\n",
       " 'NOTE this conversation has been escalated by Percept AI agent. If you want to update its reply, please visit this link: (this is a private message only visible to internal CS team)',\n",
       " '👋',\n",
       " 'hi!',\n",
       " 'The Group Emailing feature sends out the same email message to up to contacts by clicking once in the \"send\" button, but each of those emails will be send separately. Does it make sense?',\n",
       " 'Makes perfect sense 👍',\n",
       " 'Good 😊 Can I help with anything else for now?',\n",
       " 'Hi I have another open ticket but the person in charge is set as away. Is there any chance someone else can take a look at it? Not sure how this support thing works',\n",
       " 'It',\n",
       " 'it is a bit urgent for us and it',\n",
       " 'is related to a bug',\n",
       " \"My shift has just started, so the time you've waited. I can see that you've described to Christian that your signature is being sent twice. Is that it?\",\n",
       " 'for getting back to me. That',\n",
       " 'is the one I am talking about, yet.',\n",
       " \"however it's not the exact problem\",\n",
       " 'the images are getting overwritten with other images',\n",
       " 'in the bottom part of the message that acts like a signature. it',\n",
       " \"it's a signature but it's not set up as a signature if you know what i mean\",\n",
       " 'the explanation. Are you sending the emails through Pipedrive?',\n",
       " 'If so. Are you using email templates and the \"signature\" option in the Mail composer?',\n",
       " 'If so, are you*',\n",
       " 'Yes, sending with pipedrive, group email function',\n",
       " 'don',\n",
       " 'don',\n",
       " 'sorry silly keyboard',\n",
       " \"don't use it as signature as i explained\",\n",
       " 'just put everything into the main template',\n",
       " 'The weird thing is that the group of i sent to, were fine, and two of them had the bug. Same batch of sending',\n",
       " 'so it is clearly a bug',\n",
       " 'if you look at screenshots i sent to Christian you will see what i mean.',\n",
       " 'saw it, yes. Can you please send a screenshot of your mail composer? Like this:',\n",
       " 'like this?',\n",
       " 'Yes, thanks!',\n",
       " \"I can see that you're using an email template.\",\n",
       " 'yes',\n",
       " \"Can you please check in the mail composer of your Mail tab there's a signature set? I made this GIF to show you where/how to do it:\",\n",
       " 'no, the field is empty. I used one before but I deleted it as it was better to put everything into the email body',\n",
       " 'checking. Can you please make a test: select this email template; remove the signature part; send me the email: advance!',\n",
       " 'how do I have to add you as a contact first? or can I just type in your email',\n",
       " 'You can just type my email.',\n",
       " 'ok',\n",
       " 'Thanks!',\n",
       " 'sending now',\n",
       " 'without the signature bit',\n",
       " 'Thanks!',\n",
       " 'I just got it, with no signature at all.',\n",
       " 'Can you please send another one with the full email template?',\n",
       " 'you said without the signature, right? ok will send one now with the full template',\n",
       " 'just sent it',\n",
       " 'i am on the train so got a variable connection',\n",
       " 'will try and keep up with whatever you need',\n",
       " 'Yes, I did said. Just to see how it gets without the signature on the email template.',\n",
       " 'cool',\n",
       " \"I got the second email now and it's okay with just one signature.\",\n",
       " 'I know checked the email in the sent folder',\n",
       " 'You said only a some of your contacts received it with two signatures, right?',\n",
       " 'but sometimes it does it and sometimes not',\n",
       " 'I will send you one more to check if happens',\n",
       " 'done but also this one is good',\n",
       " 'not often I want a bug to happen',\n",
       " 'but I do now!',\n",
       " 'would it help if I forward you an email I sent to myself to my gmail account? it has the bug',\n",
       " 'A screenshot of it, please. Also, can you please send me examples (full screenshots showing the URL link) of contacts that got the email with the double signature?',\n",
       " 'ok',\n",
       " 'Thanks!',\n",
       " \"it's not double signatures\",\n",
       " 'it i an image overwriting another image',\n",
       " 'this screenshot shows you both things. The bug AND the contact. it',\n",
       " 'it is from the \"sent\" folder',\n",
       " 'Thanks!',\n",
       " 'Can you please send me full screenshots of the contact-person \"Are Andreassen\"?',\n",
       " 'too big for showing all the info on the screen. this is enough i hope',\n",
       " \"It's more than enough. Thank you 😊\",\n",
       " \"I will escalate this case to our engineers to t investigate what might be happening. It usually takes around hours to hear back from them, but considering that tomorrow is weekend, I'll probably get information from Monday on. In any case, I will let you know as soon as I get.\",\n",
       " \"ok and you don't have a suggestion for a workaround? Guess I have to remove one picture but it is really not a good solution\",\n",
       " 'Have to send out emails on tuesday at the very latest',\n",
       " 'As workaround I would suggest not using the Group Emailing feature and manually remove and add the picture.',\n",
       " 'I tried sending it to me individually and it still happened. I am going to remove my picture and keep the logo which has to be in there.',\n",
       " 'have a nice weekend and the help',\n",
       " 'This is good to know, that means that is not related to the Group Emailing feature. it! Have a great weekend 😊',\n",
       " \"Christian Hansen user reached out on my convo. i've escalated the case to the engineers 😉\",\n",
       " 'This note was deleted',\n",
       " 'Jaan Mölder has given this ticket has a new status: In progress Comment: null',\n",
       " 'Jaan Mölder Closed your case with comment: DONE Please ask user to check all the email templets and remove any copy pasted signature from them as t added separately when template is used. Ping me in case of questions.',\n",
       " \"{{name}}, Hope you're good. Our engineer asked you to check all the email templates and remove any copy pasted signature from them, as t added separately when template is used. After that, please let me know if you find any errors. advance!\",\n",
       " 'Not sure I understand. I should remove the signature as it is added separately? I don’t use the signature field. Please could you give me a detailed step by step on what I need to do in order to fix it? The devil’s in the detail {{name}} {{name}} CBDO {{name}} {{name}} {{name}} M. {{number}} E. W. IN. A. Jakobsoni {{number}}, Viljandi, ESTONIA',\n",
       " 'Actually I don’t really understand this. Are you saying I need to check all the templates? Will signatures from other templates overwrite the template I am using, even though the one I am using does NOT use a signature? {{name}} {{name}} CBDO {{name}} {{name}} {{name}} M. {{number}} E. W. IN. A. Jakobsoni {{number}}, Viljandi, ESTONIA',\n",
       " 'I have re-read you email again, trying to understand. It looks like you are under the impression that it has to do with a double signature, i.e. the signature is added again automatically when you use a template. Is that the case? {{name}} {{name}} CBDO {{name}} {{name}} {{name}} M. {{number}} E. W. IN. A. Jakobsoni {{number}}, Viljandi, ESTONIA',\n",
       " \"{{name}}, Hope this message finds you well. Our engineer made a review on your account on his side and at first didn't find any issues. He asked you to review all the templates and remove any copy pasted signature on them. I did explain to him that there's no signature set up in the email composer.\",\n",
       " 'This is confusing. Should I remove all signatures from all templates? Then I don’t have a signature in my emails! That does not make sense. Do you mean I shoud delete all signatures from the templates and replace them with the same code input into the signature field? That’s not what I have been told but I am just going to assume it’s what I need to do.',\n",
       " \"{{name}}, Apologies for not being so clear before. He only asked you to delete the signatures of the templates. But, yes, you need to add them back or use the signature option of the mail composer, as it would be added automatically to all emails you'd send: If the issue keep happening after that, please let me know so I can tell the engineer. advance.\",\n",
       " 'Ok, do. {{name}}',\n",
       " '{{name}}, please let me know if this worked. Have a great weekend in the meantime!',\n",
       " \"hello :) this user was sending out emails with a template and some of the contacts received the email with two pictures/signature. i've escalated the case to the engineers and jaan asked user to remove all copy pasted signature from them to check if works. since user doesn't have a signature on the mail composer, i told him that he can later re-add the signature or create a signature on the mail composer. in case he reaches back saying that the issue isn't fixed, please {{name}} jaan.\",\n",
       " \"Hope you're good. Passing to check if everything's ok. Do you still need help with this situation? Please let me know if I can help with anything else.\",\n",
       " \"checking in with me. I feel like I have already spent too much time on this and that your team should have enough information to test for yourselves by putting two images into the tool and sending emails to yourselves to see if this happens. I simply don't have time for it and am going to use only one image when I send out email even if it is well below ideal.\",\n",
       " 'slacked jaan',\n",
       " \"{{name}}, I'm sorry that you feel this way. The engineers just ask you to do this as a troubleshooting step. In any case, I've ask him to try give a further look on it, despite this step. I will keep you updated 🙇\",\n",
       " '{{name}}, Hope this message finds you well. The engineer believes that it would be better if you create new signature using the formatting options available in Pipedrive, because copied-pasted signatures can cause issues. He checked the database and saw same the text as in the duplicate signature. And asked you to please share with us a screenshot of the signature field in your mail composer. I made this GIF to show you where to do it: advance!',\n",
       " '{{name}}. I just wanted to circle back with you and let you know we are still here if you still need help with this situation. You can always come back to this conversation or begin a new chat as well with us regarding any new questions to get the most immediate response. Have a great day!',\n",
       " 'will do.',\n",
       " '🙇']"
      ]
     },
     "execution_count": 3,
     "metadata": {},
     "output_type": "execute_result"
    }
   ],
   "source": [
    "df[df[\"topic\"] != '']['messages'].iloc[0]"
   ]
  },
  {
   "cell_type": "code",
   "execution_count": 4,
   "metadata": {},
   "outputs": [],
   "source": [
    "test_df = df[:10000]"
   ]
  },
  {
   "cell_type": "code",
   "execution_count": 5,
   "metadata": {},
   "outputs": [
    {
     "data": {
      "text/html": [
       "<div>\n",
       "<style scoped>\n",
       "    .dataframe tbody tr th:only-of-type {\n",
       "        vertical-align: middle;\n",
       "    }\n",
       "\n",
       "    .dataframe tbody tr th {\n",
       "        vertical-align: top;\n",
       "    }\n",
       "\n",
       "    .dataframe thead th {\n",
       "        text-align: right;\n",
       "    }\n",
       "</style>\n",
       "<table border=\"1\" class=\"dataframe\">\n",
       "  <thead>\n",
       "    <tr style=\"text-align: right;\">\n",
       "      <th></th>\n",
       "      <th>topic</th>\n",
       "      <th>content</th>\n",
       "      <th>messages</th>\n",
       "    </tr>\n",
       "  </thead>\n",
       "  <tbody>\n",
       "    <tr>\n",
       "      <th>25217739257</th>\n",
       "      <td></td>\n",
       "      <td></td>\n",
       "      <td>[Since you don't have any other question, I wi...</td>\n",
       "    </tr>\n",
       "    <tr>\n",
       "      <th>25220889509</th>\n",
       "      <td></td>\n",
       "      <td></td>\n",
       "      <td>[there?, Pipedrive will be back later today., ...</td>\n",
       "    </tr>\n",
       "    <tr>\n",
       "      <th>25220901122</th>\n",
       "      <td></td>\n",
       "      <td></td>\n",
       "      <td>[I am trying to add my credit card details and...</td>\n",
       "    </tr>\n",
       "    <tr>\n",
       "      <th>25220983828</th>\n",
       "      <td></td>\n",
       "      <td></td>\n",
       "      <td>[I'm setting up a Zap path to send one kind of...</td>\n",
       "    </tr>\n",
       "    <tr>\n",
       "      <th>25221034467</th>\n",
       "      <td></td>\n",
       "      <td></td>\n",
       "      <td>[Can pipedrive create leads and deals based up...</td>\n",
       "    </tr>\n",
       "  </tbody>\n",
       "</table>\n",
       "</div>"
      ],
      "text/plain": [
       "            topic content                                           messages\n",
       "25217739257                [Since you don't have any other question, I wi...\n",
       "25220889509                [there?, Pipedrive will be back later today., ...\n",
       "25220901122                [I am trying to add my credit card details and...\n",
       "25220983828                [I'm setting up a Zap path to send one kind of...\n",
       "25221034467                [Can pipedrive create leads and deals based up..."
      ]
     },
     "execution_count": 5,
     "metadata": {},
     "output_type": "execute_result"
    }
   ],
   "source": [
    "test_df.head()"
   ]
  },
  {
   "cell_type": "code",
   "execution_count": 6,
   "metadata": {},
   "outputs": [],
   "source": [
    "import re"
   ]
  },
  {
   "cell_type": "code",
   "execution_count": 7,
   "metadata": {},
   "outputs": [
    {
     "data": {
      "text/plain": [
       "'{{name}} is sth'"
      ]
     },
     "execution_count": 7,
     "metadata": {},
     "output_type": "execute_result"
    }
   ],
   "source": [
    "\"{{name}} is sth\".replace(\"{{.*}}\", \"\")"
   ]
  },
  {
   "cell_type": "code",
   "execution_count": 8,
   "metadata": {},
   "outputs": [
    {
     "data": {
      "text/plain": [
       "'{{name}} is sth'"
      ]
     },
     "execution_count": 8,
     "metadata": {},
     "output_type": "execute_result"
    }
   ],
   "source": [
    "\"{{name}} is sth\".replace(str(re.match(\"{{.*}}\", \"{{name}} is sth\")), \"\")"
   ]
  },
  {
   "cell_type": "code",
   "execution_count": 9,
   "metadata": {},
   "outputs": [
    {
     "data": {
      "text/plain": [
       "'is  name'"
      ]
     },
     "execution_count": 9,
     "metadata": {},
     "output_type": "execute_result"
    }
   ],
   "source": [
    "re.sub(r'{{[^}]*}}', '', \"{{name}} is {{number}} name\").strip(\" \")"
   ]
  },
  {
   "cell_type": "code",
   "execution_count": 10,
   "metadata": {},
   "outputs": [],
   "source": [
    "messages = {}\n",
    "\n",
    "for index, row in test_df.iterrows():\n",
    "    msg = re.sub(r'{{[^}]*}}', '', \" \".join(row['messages']))\n",
    "    messages[index] = msg"
   ]
  },
  {
   "cell_type": "code",
   "execution_count": 11,
   "metadata": {},
   "outputs": [
    {
     "name": "stderr",
     "output_type": "stream",
     "text": [
      "[nltk_data] Downloading package wordnet to\n",
      "[nltk_data]     C:\\Users\\ingma\\AppData\\Roaming\\nltk_data...\n",
      "[nltk_data]   Package wordnet is already up-to-date!\n"
     ]
    },
    {
     "data": {
      "text/plain": [
       "True"
      ]
     },
     "execution_count": 11,
     "metadata": {},
     "output_type": "execute_result"
    }
   ],
   "source": [
    "import nltk\n",
    "from nltk.tokenize import word_tokenize\n",
    "from nltk.stem import WordNetLemmatizer\n",
    "from nltk.corpus import stopwords\n",
    "\n",
    "nltk.download('wordnet')"
   ]
  },
  {
   "cell_type": "code",
   "execution_count": 12,
   "metadata": {},
   "outputs": [
    {
     "ename": "KeyError",
     "evalue": "13675529033",
     "output_type": "error",
     "traceback": [
      "\u001b[1;31m---------------------------------------------------------------------------\u001b[0m",
      "\u001b[1;31mKeyError\u001b[0m                                  Traceback (most recent call last)",
      "\u001b[1;32m<ipython-input-12-7b595f73f977>\u001b[0m in \u001b[0;36m<module>\u001b[1;34m\u001b[0m\n\u001b[1;32m----> 1\u001b[1;33m \u001b[0mmessages\u001b[0m\u001b[1;33m[\u001b[0m\u001b[1;36m13675529033\u001b[0m\u001b[1;33m]\u001b[0m\u001b[1;33m\u001b[0m\u001b[1;33m\u001b[0m\u001b[0m\n\u001b[0m",
      "\u001b[1;31mKeyError\u001b[0m: 13675529033"
     ]
    }
   ],
   "source": [
    "messages[13675529033]"
   ]
  },
  {
   "cell_type": "code",
   "execution_count": 13,
   "metadata": {},
   "outputs": [
    {
     "data": {
      "text/plain": [
       "109"
      ]
     },
     "execution_count": 13,
     "metadata": {},
     "output_type": "execute_result"
    }
   ],
   "source": [
    "len(messages[13672140114])"
   ]
  },
  {
   "cell_type": "code",
   "execution_count": 15,
   "metadata": {},
   "outputs": [
    {
     "name": "stderr",
     "output_type": "stream",
     "text": [
      "[nltk_data] Downloading package stopwords to\n",
      "[nltk_data]     C:\\Users\\ingma\\AppData\\Roaming\\nltk_data...\n",
      "[nltk_data]   Unzipping corpora\\stopwords.zip.\n"
     ]
    }
   ],
   "source": [
    "#nltk.download('stopwords')\n",
    "stop_words = stopwords.words('english')"
   ]
  },
  {
   "cell_type": "code",
   "execution_count": 16,
   "metadata": {},
   "outputs": [],
   "source": [
    "stop_words.extend([\"wo\", \"n't\", \"'m\", \"ca\", \"'ll\", \"'re\", \"'ve\", \"'d\"])"
   ]
  },
  {
   "cell_type": "code",
   "execution_count": 17,
   "metadata": {},
   "outputs": [],
   "source": [
    "lens = []\n",
    "for i in messages:\n",
    "    lens.append(len(messages[i].split()))"
   ]
  },
  {
   "cell_type": "code",
   "execution_count": 18,
   "metadata": {},
   "outputs": [
    {
     "name": "stdout",
     "output_type": "stream",
     "text": [
      "417.8208\n"
     ]
    }
   ],
   "source": [
    "import numpy as np\n",
    "print(np.mean(lens))"
   ]
  },
  {
   "cell_type": "code",
   "execution_count": 19,
   "metadata": {},
   "outputs": [
    {
     "data": {
      "image/png": "[encoded data removed]",
      "text/plain": [
       "<Figure size 432x288 with 1 Axes>"
      ]
     },
     "metadata": {
      "needs_background": "light"
     },
     "output_type": "display_data"
    }
   ],
   "source": [
    "from matplotlib import pyplot as plt\n",
    "\n",
    "plt.hist(lens, bins=100, range=(1, 3000))\n",
    "plt.axvline(x=np.mean(lens), color='r', linestyle='-')\n",
    "\n",
    "plt.title('Lengths of conversations')\n",
    "\n",
    "plt.xlabel('Number of words in conversation')\n",
    "plt.ylabel('Number of conversations')\n",
    "\n",
    "plt.show()"
   ]
  },
  {
   "cell_type": "code",
   "execution_count": 20,
   "metadata": {},
   "outputs": [],
   "source": [
    "#words = word_tokenize(messages[13850823877])\n",
    "#words = messages[13850823877].split(\" \")\n",
    "lemmatizer = WordNetLemmatizer()\n",
    "\n",
    "lemmas = []\n",
    "\n",
    "for key, value in messages.items():\n",
    "    words = word_tokenize(value)\n",
    "    lem = []\n",
    "    for word in words:\n",
    "        lemma = lemmatizer.lemmatize(word)\n",
    "        if len(lemma) > 1:\n",
    "            lem.append(lemma.lower())\n",
    "    lem = [w for w in lem if not w in stop_words]\n",
    "    lemmas.append(lem)\n",
    "    \n",
    "#print(lemmas)"
   ]
  },
  {
   "cell_type": "code",
   "execution_count": 21,
   "metadata": {},
   "outputs": [
    {
     "data": {
      "text/plain": [
       "['pipedrive',\n",
       " 'back',\n",
       " 'later',\n",
       " 'today',\n",
       " 'notified',\n",
       " 'email',\n",
       " 'help',\n",
       " 'trying',\n",
       " 'add',\n",
       " 'webhook',\n",
       " \"'s\",\n",
       " 'giving',\n",
       " 'error',\n",
       " 'put',\n",
       " 'webhook',\n",
       " 'url',\n",
       " 'please',\n",
       " 'help',\n",
       " 'add',\n",
       " 'webhook',\n",
       " 'note',\n",
       " 'conversation',\n",
       " 'ha',\n",
       " 'escalated',\n",
       " 'percept',\n",
       " 'ai',\n",
       " 'agent',\n",
       " 'want',\n",
       " 'update',\n",
       " 'reply',\n",
       " 'please',\n",
       " 'visit',\n",
       " 'link',\n",
       " 'private',\n",
       " 'message',\n",
       " 'visible',\n",
       " 'internal',\n",
       " 'cs',\n",
       " 'team',\n",
       " 'agent',\n",
       " 'capacity',\n",
       " 'right',\n",
       " 'apology',\n",
       " 'delay',\n",
       " 'please',\n",
       " 'feel',\n",
       " 'free',\n",
       " 'explain',\n",
       " 'query',\n",
       " 'detail',\n",
       " 'done',\n",
       " 'already',\n",
       " 'soon',\n",
       " 'possible',\n",
       " 'thank',\n",
       " 'webhook',\n",
       " 'url',\n",
       " 'look',\n",
       " 'like',\n",
       " 'pretty',\n",
       " 'sure',\n",
       " 'valid',\n",
       " 'url',\n",
       " 'publicly',\n",
       " 'accessible',\n",
       " 'error',\n",
       " 'get',\n",
       " 'everytime',\n",
       " '``',\n",
       " 'invalid',\n",
       " 'non-reachable',\n",
       " 'url',\n",
       " \"''\"]"
      ]
     },
     "execution_count": 21,
     "metadata": {},
     "output_type": "execute_result"
    }
   ],
   "source": [
    "lemmas[7]"
   ]
  },
  {
   "cell_type": "code",
   "execution_count": 22,
   "metadata": {},
   "outputs": [],
   "source": [
    "from sklearn.feature_extraction.text import CountVectorizer"
   ]
  },
  {
   "cell_type": "code",
   "execution_count": 23,
   "metadata": {},
   "outputs": [],
   "source": [
    "vectorizer = CountVectorizer()"
   ]
  },
  {
   "cell_type": "code",
   "execution_count": 24,
   "metadata": {},
   "outputs": [],
   "source": [
    "texts = [\" \".join(text) for text in lemmas]"
   ]
  },
  {
   "cell_type": "code",
   "execution_count": 25,
   "metadata": {},
   "outputs": [],
   "source": [
    "X = vectorizer.fit_transform(texts)"
   ]
  },
  {
   "cell_type": "code",
   "execution_count": 26,
   "metadata": {},
   "outputs": [],
   "source": [
    "from sklearn.decomposition import LatentDirichletAllocation"
   ]
  },
  {
   "cell_type": "code",
   "execution_count": 27,
   "metadata": {},
   "outputs": [],
   "source": [
    "lda = LatentDirichletAllocation()"
   ]
  },
  {
   "cell_type": "code",
   "execution_count": 28,
   "metadata": {},
   "outputs": [
    {
     "data": {
      "text/plain": [
       "LatentDirichletAllocation()"
      ]
     },
     "execution_count": 28,
     "metadata": {},
     "output_type": "execute_result"
    }
   ],
   "source": [
    "lda.fit(X)"
   ]
  },
  {
   "cell_type": "code",
   "execution_count": 29,
   "metadata": {},
   "outputs": [
    {
     "data": {
      "text/plain": [
       "array([[7.69232942e-03, 7.69232825e-03, 7.69241065e-03, 7.69231979e-03,\n",
       "        7.69230769e-03, 7.69284717e-03, 7.69350304e-03, 9.30765998e-01,\n",
       "        7.69364148e-03, 7.69231466e-03],\n",
       "       [8.62118713e-04, 8.62085850e-04, 8.62092483e-04, 8.62074789e-04,\n",
       "        8.62076975e-04, 8.62335795e-04, 8.62344238e-04, 5.02787591e-01,\n",
       "        4.90315194e-01, 8.62086367e-04],\n",
       "       [7.51883096e-04, 7.51892102e-04, 7.51890640e-04, 7.51889148e-04,\n",
       "        7.51880699e-04, 7.52006168e-04, 3.69129449e-01, 6.24855200e-01,\n",
       "        7.52024389e-04, 7.51884642e-04],\n",
       "       [4.31054027e-04, 4.31039958e-04, 4.31039098e-04, 4.31037645e-04,\n",
       "        4.31035243e-04, 7.90922238e-02, 4.31114137e-04, 4.31135232e-04,\n",
       "        9.17459283e-01, 4.31038222e-04],\n",
       "       [5.02539451e-04, 5.02522494e-04, 5.02527781e-04, 5.02521216e-04,\n",
       "        5.02514034e-04, 5.02614188e-04, 5.02604121e-04, 6.27322346e-01,\n",
       "        3.68657288e-01, 5.02522748e-04]])"
      ]
     },
     "execution_count": 29,
     "metadata": {},
     "output_type": "execute_result"
    }
   ],
   "source": [
    "lda.transform(X[:5])"
   ]
  },
  {
   "cell_type": "code",
   "execution_count": 44,
   "metadata": {},
   "outputs": [
    {
     "data": {
      "text/plain": [
       "array([[0.00086212, 0.00086209, 0.00086209, 0.00086207, 0.00086208,\n",
       "        0.00086234, 0.00086234, 0.50278759, 0.49031519, 0.00086209]])"
      ]
     },
     "execution_count": 44,
     "metadata": {},
     "output_type": "execute_result"
    }
   ],
   "source": [
    "lda.transform(X[1])"
   ]
  },
  {
   "cell_type": "code",
   "execution_count": 61,
   "metadata": {},
   "outputs": [
    {
     "data": {
      "text/plain": [
       "{7: [('credit', 38), ('call', 13), ('company', 11)],\n",
       " 8: [('avdeling', 32), ('stavanger', 32), ('tau', 24)],\n",
       " 6: [('javier', 12), ('eremenko', 12), ('bank', 11)],\n",
       " 5: [('calendar', 47), ('sync', 35), ('inline', 35)],\n",
       " 3: [('momento', 17), ('zapier', 15), ('adicionar', 14)],\n",
       " 1: [('lia', 24), ('reset', 20), ('amazon', 18)],\n",
       " 2: [('gt', 36), ('votre', 22), ('prénom', 18)],\n",
       " 9: [('et', 16), ('ich', 15), ('gabriel', 14)],\n",
       " 0: [('ja', 16), ('see', 13), ('title', 11)]}"
      ]
     },
     "execution_count": 61,
     "metadata": {},
     "output_type": "execute_result"
    }
   ],
   "source": [
    "from collections import defaultdict\n",
    "\n",
    "counter = defaultdict(dict)\n",
    "n = 1000\n",
    "transformed = lda.transform(X[:n])\n",
    "for i in range(n):\n",
    "    counted_words = defaultdict(int)\n",
    "    text = texts[i]\n",
    "    for word in text.split():\n",
    "        counted_words[word] += 1\n",
    "    topic = transformed[i].argmax()\n",
    "    counter[topic].update(dict(counted_words))\n",
    "\n",
    "dict2 = dict()\n",
    "\n",
    "for topic in counter:\n",
    "    items = list(counter[topic].items())\n",
    "    items.sort(key=lambda x: x[1], reverse=True)\n",
    "    dict2[topic] = items[:3]\n",
    "    \n",
    "dict2\n"
   ]
  },
  {
   "cell_type": "markdown",
   "metadata": {},
   "source": [
    "---"
   ]
  },
  {
   "cell_type": "code",
   "execution_count": 32,
   "metadata": {},
   "outputs": [],
   "source": [
    "import nltk"
   ]
  },
  {
   "cell_type": "code",
   "execution_count": 33,
   "metadata": {},
   "outputs": [],
   "source": [
    "#nltk.download('crubadan')\n",
    "tc = nltk.classify.textcat.TextCat() "
   ]
  },
  {
   "cell_type": "code",
   "execution_count": 34,
   "metadata": {},
   "outputs": [
    {
     "name": "stdout",
     "output_type": "stream",
     "text": [
      "Requirement already satisfied: pycountry in c:\\users\\ingma\\miniconda3\\envs\\mlp\\lib\\site-packages (20.7.3)\n"
     ]
    }
   ],
   "source": [
    "!pip install pycountry"
   ]
  },
  {
   "cell_type": "code",
   "execution_count": 35,
   "metadata": {},
   "outputs": [],
   "source": [
    "import pycountry"
   ]
  },
  {
   "cell_type": "code",
   "execution_count": 36,
   "metadata": {},
   "outputs": [
    {
     "data": {
      "text/plain": [
       "[\"question. I wanted to send out a group email. Just want to make sure; For the respondents, there is no difference for them if I sent the emails individually it's simply sending the same email again and again to a group of people, right?\",\n",
       " \"Pipedrive Support Bot here! Ask me any question about Pipedrive and I'll be happy to assist you 😊 Although I am a bot, I'll do as best as I can to solve your queries. If there's something I don't understand I'll direct you to my team members.\",\n",
       " 'You can send an email to large groups of your leads using our Group Emailing function. It is available in the following places: The List View of the Deals tab The List View of the Contacts tab The List View of the Activities tab The Timeline view of the Contacts tab You can select up to one hundred contacts when sending one email. Once multiple contacts are selected in any of the places listed above, the Send group email button will appear. Once you click this button, you will be prompted to provide the relevant details about the email you wish to send to that group of contacts. Afterwards, click the Send message button. You can find more details of this feature here: Group Emailing',\n",
       " 'I am following up to let you know that I am still here to help you. Please let me know if I can further assist you and feel free to fire your questions my way. If not, please type \"1\" to close this conversation. 😊 1) My issue is resolved 2) Chat with human',\n",
       " 'Got it. I am directing you to our support team now and one of my human colleagues will be with you shortly to look into this.',\n",
       " 'NOTE this conversation has been escalated by Percept AI agent. If you want to update its reply, please visit this link: (this is a private message only visible to internal CS team)',\n",
       " '👋',\n",
       " 'hi!',\n",
       " 'The Group Emailing feature sends out the same email message to up to contacts by clicking once in the \"send\" button, but each of those emails will be send separately. Does it make sense?',\n",
       " 'Makes perfect sense 👍',\n",
       " 'Good 😊 Can I help with anything else for now?',\n",
       " 'Hi I have another open ticket but the person in charge is set as away. Is there any chance someone else can take a look at it? Not sure how this support thing works',\n",
       " 'It',\n",
       " 'it is a bit urgent for us and it',\n",
       " 'is related to a bug',\n",
       " \"My shift has just started, so the time you've waited. I can see that you've described to Christian that your signature is being sent twice. Is that it?\",\n",
       " 'for getting back to me. That',\n",
       " 'is the one I am talking about, yet.',\n",
       " \"however it's not the exact problem\",\n",
       " 'the images are getting overwritten with other images',\n",
       " 'in the bottom part of the message that acts like a signature. it',\n",
       " \"it's a signature but it's not set up as a signature if you know what i mean\",\n",
       " 'the explanation. Are you sending the emails through Pipedrive?',\n",
       " 'If so. Are you using email templates and the \"signature\" option in the Mail composer?',\n",
       " 'If so, are you*',\n",
       " 'Yes, sending with pipedrive, group email function',\n",
       " 'don',\n",
       " 'don',\n",
       " 'sorry silly keyboard',\n",
       " \"don't use it as signature as i explained\",\n",
       " 'just put everything into the main template',\n",
       " 'The weird thing is that the group of i sent to, were fine, and two of them had the bug. Same batch of sending',\n",
       " 'so it is clearly a bug',\n",
       " 'if you look at screenshots i sent to Christian you will see what i mean.',\n",
       " 'saw it, yes. Can you please send a screenshot of your mail composer? Like this:',\n",
       " 'like this?',\n",
       " 'Yes, thanks!',\n",
       " \"I can see that you're using an email template.\",\n",
       " 'yes',\n",
       " \"Can you please check in the mail composer of your Mail tab there's a signature set? I made this GIF to show you where/how to do it:\",\n",
       " 'no, the field is empty. I used one before but I deleted it as it was better to put everything into the email body',\n",
       " 'checking. Can you please make a test: select this email template; remove the signature part; send me the email: advance!',\n",
       " 'how do I have to add you as a contact first? or can I just type in your email',\n",
       " 'You can just type my email.',\n",
       " 'ok',\n",
       " 'Thanks!',\n",
       " 'sending now',\n",
       " 'without the signature bit',\n",
       " 'Thanks!',\n",
       " 'I just got it, with no signature at all.',\n",
       " 'Can you please send another one with the full email template?',\n",
       " 'you said without the signature, right? ok will send one now with the full template',\n",
       " 'just sent it',\n",
       " 'i am on the train so got a variable connection',\n",
       " 'will try and keep up with whatever you need',\n",
       " 'Yes, I did said. Just to see how it gets without the signature on the email template.',\n",
       " 'cool',\n",
       " \"I got the second email now and it's okay with just one signature.\",\n",
       " 'I know checked the email in the sent folder',\n",
       " 'You said only a some of your contacts received it with two signatures, right?',\n",
       " 'but sometimes it does it and sometimes not',\n",
       " 'I will send you one more to check if happens',\n",
       " 'done but also this one is good',\n",
       " 'not often I want a bug to happen',\n",
       " 'but I do now!',\n",
       " 'would it help if I forward you an email I sent to myself to my gmail account? it has the bug',\n",
       " 'A screenshot of it, please. Also, can you please send me examples (full screenshots showing the URL link) of contacts that got the email with the double signature?',\n",
       " 'ok',\n",
       " 'Thanks!',\n",
       " \"it's not double signatures\",\n",
       " 'it i an image overwriting another image',\n",
       " 'this screenshot shows you both things. The bug AND the contact. it',\n",
       " 'it is from the \"sent\" folder',\n",
       " 'Thanks!',\n",
       " 'Can you please send me full screenshots of the contact-person \"Are Andreassen\"?',\n",
       " 'too big for showing all the info on the screen. this is enough i hope',\n",
       " \"It's more than enough. Thank you 😊\",\n",
       " \"I will escalate this case to our engineers to t investigate what might be happening. It usually takes around hours to hear back from them, but considering that tomorrow is weekend, I'll probably get information from Monday on. In any case, I will let you know as soon as I get.\",\n",
       " \"ok and you don't have a suggestion for a workaround? Guess I have to remove one picture but it is really not a good solution\",\n",
       " 'Have to send out emails on tuesday at the very latest',\n",
       " 'As workaround I would suggest not using the Group Emailing feature and manually remove and add the picture.',\n",
       " 'I tried sending it to me individually and it still happened. I am going to remove my picture and keep the logo which has to be in there.',\n",
       " 'have a nice weekend and the help',\n",
       " 'This is good to know, that means that is not related to the Group Emailing feature. it! Have a great weekend 😊',\n",
       " \"Christian Hansen user reached out on my convo. i've escalated the case to the engineers 😉\",\n",
       " 'This note was deleted',\n",
       " 'Jaan Mölder has given this ticket has a new status: In progress Comment: null',\n",
       " 'Jaan Mölder Closed your case with comment: DONE Please ask user to check all the email templets and remove any copy pasted signature from them as t added separately when template is used. Ping me in case of questions.',\n",
       " \"{{name}}, Hope you're good. Our engineer asked you to check all the email templates and remove any copy pasted signature from them, as t added separately when template is used. After that, please let me know if you find any errors. advance!\",\n",
       " 'Not sure I understand. I should remove the signature as it is added separately? I don’t use the signature field. Please could you give me a detailed step by step on what I need to do in order to fix it? The devil’s in the detail {{name}} {{name}} CBDO {{name}} {{name}} {{name}} M. {{number}} E. W. IN. A. Jakobsoni {{number}}, Viljandi, ESTONIA',\n",
       " 'Actually I don’t really understand this. Are you saying I need to check all the templates? Will signatures from other templates overwrite the template I am using, even though the one I am using does NOT use a signature? {{name}} {{name}} CBDO {{name}} {{name}} {{name}} M. {{number}} E. W. IN. A. Jakobsoni {{number}}, Viljandi, ESTONIA',\n",
       " 'I have re-read you email again, trying to understand. It looks like you are under the impression that it has to do with a double signature, i.e. the signature is added again automatically when you use a template. Is that the case? {{name}} {{name}} CBDO {{name}} {{name}} {{name}} M. {{number}} E. W. IN. A. Jakobsoni {{number}}, Viljandi, ESTONIA',\n",
       " \"{{name}}, Hope this message finds you well. Our engineer made a review on your account on his side and at first didn't find any issues. He asked you to review all the templates and remove any copy pasted signature on them. I did explain to him that there's no signature set up in the email composer.\",\n",
       " 'This is confusing. Should I remove all signatures from all templates? Then I don’t have a signature in my emails! That does not make sense. Do you mean I shoud delete all signatures from the templates and replace them with the same code input into the signature field? That’s not what I have been told but I am just going to assume it’s what I need to do.',\n",
       " \"{{name}}, Apologies for not being so clear before. He only asked you to delete the signatures of the templates. But, yes, you need to add them back or use the signature option of the mail composer, as it would be added automatically to all emails you'd send: If the issue keep happening after that, please let me know so I can tell the engineer. advance.\",\n",
       " 'Ok, do. {{name}}',\n",
       " '{{name}}, please let me know if this worked. Have a great weekend in the meantime!',\n",
       " \"hello :) this user was sending out emails with a template and some of the contacts received the email with two pictures/signature. i've escalated the case to the engineers and jaan asked user to remove all copy pasted signature from them to check if works. since user doesn't have a signature on the mail composer, i told him that he can later re-add the signature or create a signature on the mail composer. in case he reaches back saying that the issue isn't fixed, please {{name}} jaan.\",\n",
       " \"Hope you're good. Passing to check if everything's ok. Do you still need help with this situation? Please let me know if I can help with anything else.\",\n",
       " \"checking in with me. I feel like I have already spent too much time on this and that your team should have enough information to test for yourselves by putting two images into the tool and sending emails to yourselves to see if this happens. I simply don't have time for it and am going to use only one image when I send out email even if it is well below ideal.\",\n",
       " 'slacked jaan',\n",
       " \"{{name}}, I'm sorry that you feel this way. The engineers just ask you to do this as a troubleshooting step. In any case, I've ask him to try give a further look on it, despite this step. I will keep you updated 🙇\",\n",
       " '{{name}}, Hope this message finds you well. The engineer believes that it would be better if you create new signature using the formatting options available in Pipedrive, because copied-pasted signatures can cause issues. He checked the database and saw same the text as in the duplicate signature. And asked you to please share with us a screenshot of the signature field in your mail composer. I made this GIF to show you where to do it: advance!',\n",
       " '{{name}}. I just wanted to circle back with you and let you know we are still here if you still need help with this situation. You can always come back to this conversation or begin a new chat as well with us regarding any new questions to get the most immediate response. Have a great day!',\n",
       " 'will do.',\n",
       " '🙇']"
      ]
     },
     "execution_count": 36,
     "metadata": {},
     "output_type": "execute_result"
    }
   ],
   "source": [
    "naide = df[df[\"topic\"] != '']['messages'].iloc[0]\n",
    "naide"
   ]
  },
  {
   "cell_type": "code",
   "execution_count": 37,
   "metadata": {},
   "outputs": [
    {
     "data": {
      "text/plain": [
       "106"
      ]
     },
     "execution_count": 37,
     "metadata": {},
     "output_type": "execute_result"
    }
   ],
   "source": [
    "len(naide)"
   ]
  },
  {
   "cell_type": "code",
   "execution_count": 38,
   "metadata": {},
   "outputs": [
    {
     "name": "stdout",
     "output_type": "stream",
     "text": [
      "--- 35.521987438201904 seconds ---\n"
     ]
    }
   ],
   "source": [
    "import time\n",
    "start_time = time.time()\n",
    "\n",
    "languages = []\n",
    "\n",
    "for n in naide:\n",
    "    #print(type(n))\n",
    "    guess_one = tc.guess_language(n)\n",
    "    guess_one_name = pycountry.languages.get(alpha_3=guess_one)\n",
    "    if guess_one_name is None:\n",
    "        continue\n",
    "    languages.append(guess_one_name.name)\n",
    "    \n",
    "print(\"--- %s seconds ---\" % (time.time() - start_time))"
   ]
  },
  {
   "cell_type": "code",
   "execution_count": 39,
   "metadata": {},
   "outputs": [
    {
     "name": "stdout",
     "output_type": "stream",
     "text": [
      "--- 0.9734654426574707 seconds ---\n"
     ]
    }
   ],
   "source": [
    "start_time2 = time.time()\n",
    "\n",
    "languages2 = []\n",
    "\n",
    "for n in naide:\n",
    "    try:\n",
    "        lang = detect(n)\n",
    "        languages2.append(lang)\n",
    "    except:\n",
    "        continue\n",
    "    \n",
    "print(\"--- %s seconds ---\" % (time.time() - start_time2))"
   ]
  },
  {
   "cell_type": "code",
   "execution_count": null,
   "metadata": {},
   "outputs": [],
   "source": []
  }
 ],
 "metadata": {
  "kernelspec": {
   "display_name": "Python 3",
   "language": "python",
   "name": "python3"
  },
  "language_info": {
   "codemirror_mode": {
    "name": "ipython",
    "version": 3
   },
   "file_extension": ".py",
   "mimetype": "text/x-python",
   "name": "python",
   "nbconvert_exporter": "python",
   "pygments_lexer": "ipython3",
   "version": "3.6.12"
  }
 },
 "nbformat": 4,
 "nbformat_minor": 2
}
