{
 "cells": [
  {
   "cell_type": "code",
   "execution_count": null,
   "metadata": {},
   "outputs": [],
   "source": [
    "import nltk\n",
    "import json"
   ]
  },
  {
   "cell_type": "code",
   "execution_count": null,
   "metadata": {},
   "outputs": [],
   "source": [
    "with open(\"english_texts.json\", \"r\", encoding=\"utf8\") as f:\n",
    "    texts = json.loads(f.read())"
   ]
  },
  {
   "cell_type": "code",
   "execution_count": null,
   "metadata": {},
   "outputs": [],
   "source": [
    "nltk.download('maxent_ne_chunker')\n",
    "nltk.download('words')"
   ]
  },
  {
   "cell_type": "code",
   "execution_count": null,
   "metadata": {},
   "outputs": [],
   "source": [
    "texts[0]"
   ]
  },
  {
   "cell_type": "code",
   "execution_count": null,
   "metadata": {},
   "outputs": [],
   "source": [
    "test_text = 'Im Talking Ot Guy Lll Jejfiabfiabg Hm Riley Young Linked Se- Blank Email Thread Subject'"
   ]
  },
  {
   "cell_type": "code",
   "execution_count": null,
   "metadata": {},
   "outputs": [],
   "source": [
    "#texts[0]\n",
    "#nltk.ne_chunk(texts[0], binary=True)\n",
    "\n",
    "\n",
    "for sent in nltk.sent_tokenize(test_text):\n",
    "    for chunk in nltk.ne_chunk(nltk.pos_tag(nltk.word_tokenize(sent))):\n",
    "        if hasattr(chunk, 'label'):\n",
    "            print(chunk.label(), ' '.join(c[0] for c in chunk))"
   ]
  },
  {
   "cell_type": "markdown",
   "metadata": {},
   "source": [
    "---"
   ]
  },
  {
   "cell_type": "code",
   "execution_count": null,
   "metadata": {},
   "outputs": [],
   "source": [
    "from langdetect import detect\n",
    "import os\n",
    "import re\n",
    "from collections import defaultdict\n",
    "import pandas as pd"
   ]
  },
  {
   "cell_type": "code",
   "execution_count": null,
   "metadata": {},
   "outputs": [],
   "source": [
    "data = defaultdict(lambda: {'topic': '', 'content': '', 'messages': []})\n",
    "\n",
    "for file_path in os.listdir(\"cleaned_intercom_messages\"):\n",
    "    csv = pd.read_csv(f\"cleaned_intercom_messages/{file_path}\")\n",
    "    csv = csv[csv['clean_body'].notna()]\n",
    "    bodies = csv[\"clean_body\"]\n",
    "    ids = csv[\"key_intercomconversation\"]\n",
    "    for id, body in zip(ids, bodies):\n",
    "        m = re.search(\" Selected category: (.+) Content: (.+) uid:\", body)\n",
    "        if m is not None:\n",
    "            data[id]['topic'] = m.group(1)\n",
    "            data[id]['content'] = m.group(2)\n",
    "        else:\n",
    "            data[id]['messages'].append(body)\n",
    "\n",
    "df = pd.DataFrame.from_dict(data, orient=\"index\")\n",
    "print(len(df[df[\"topic\"] == '']))\n",
    "print(len(df[df[\"topic\"] != '']))"
   ]
  },
  {
   "cell_type": "code",
   "execution_count": null,
   "metadata": {},
   "outputs": [],
   "source": [
    "messages = {}\n",
    "\n",
    "for index, row in df.iterrows():\n",
    "    msg = re.sub(r'{{[^}]*}}', '', \" \".join(row['messages']))\n",
    "    messages[index] = msg"
   ]
  },
  {
   "cell_type": "code",
   "execution_count": null,
   "metadata": {},
   "outputs": [],
   "source": [
    "import nltk\n",
    "from nltk.tokenize import word_tokenize\n",
    "from nltk.stem import WordNetLemmatizer\n",
    "from nltk.corpus import stopwords"
   ]
  },
  {
   "cell_type": "code",
   "execution_count": null,
   "metadata": {},
   "outputs": [],
   "source": [
    "stop_words = stopwords.words('english')\n",
    "stop_words.extend([\"wo\", \"n't\", \"'m\", \"ca\", \"'ll\", \"'re\", \"'ve\", \"'d\"])"
   ]
  },
  {
   "cell_type": "code",
   "execution_count": null,
   "metadata": {},
   "outputs": [],
   "source": [
    "lemmatizer.lemmatize(\"Hello\")"
   ]
  },
  {
   "cell_type": "code",
   "execution_count": null,
   "metadata": {},
   "outputs": [],
   "source": [
    "df.head()"
   ]
  },
  {
   "cell_type": "code",
   "execution_count": null,
   "metadata": {},
   "outputs": [],
   "source": [
    "import time"
   ]
  },
  {
   "cell_type": "code",
   "execution_count": null,
   "metadata": {},
   "outputs": [],
   "source": [
    "lemmatizer = WordNetLemmatizer()\n",
    "\n",
    "lemmas = []\n",
    "\n",
    "start = time.time()\n",
    "\n",
    "for key, value in list(messages.items())[:1000]:\n",
    "    words = word_tokenize(value)\n",
    "    lem = []\n",
    "    names = []\n",
    "    for chunk in nltk.ne_chunk(nltk.pos_tag(words)):\n",
    "    #for chunk in nltk.ne_chunk(nltk.pos_tag(nltk.word_tokenize(nltk.sent_tokenize(value)[0]))):\n",
    "        if hasattr(chunk, 'label') and chunk.label() == 'PERSON':\n",
    "            #print(chunk.label(), ' '.join(c[0] for c in chunk))\n",
    "            names.extend([c[0] for c in chunk])\n",
    "            #print([c[0] for c in chunk])\n",
    "    for word in words:\n",
    "        lemma = lemmatizer.lemmatize(word)\n",
    "        #for chunk in nltk.ne_chunk(nltk.pos_tag(nltk.word_tokenize(sent))):\n",
    "        if len(lemma) > 1:\n",
    "            lem.append(lemma)\n",
    "    lem = [w.lower() for w in lem if not w in stop_words and w not in names]\n",
    "    lemmas.append(lem)\n",
    "#print(lemmas)\n",
    "\n",
    "end = time.time()\n",
    "\n",
    "print(\"--- %s seconds ---\" % (end - start))"
   ]
  },
  {
   "cell_type": "code",
   "execution_count": null,
   "metadata": {},
   "outputs": [],
   "source": [
    "143 - 1000\n",
    "#x - 270000\n",
    "\n",
    "x = 2.4 *270000 / 1000\n",
    "x"
   ]
  },
  {
   "cell_type": "code",
   "execution_count": null,
   "metadata": {},
   "outputs": [],
   "source": [
    "lemmatizer = WordNetLemmatizer()\n",
    "\n",
    "lemmas = []\n",
    "\n",
    "start = time.time()\n",
    "\n",
    "for key, value in list(messages.items())[:1000]:\n",
    "    words = word_tokenize(value)\n",
    "    lem = []\n",
    "    names = []\n",
    "    \"\"\"for chunk in nltk.ne_chunk(nltk.pos_tag(words)):\n",
    "    #for chunk in nltk.ne_chunk(nltk.pos_tag(nltk.word_tokenize(nltk.sent_tokenize(value)[0]))):\n",
    "        if hasattr(chunk, 'label') and chunk.label() == 'PERSON':\n",
    "            #print(chunk.label(), ' '.join(c[0] for c in chunk))\n",
    "            names.extend([c[0] for c in chunk])\n",
    "            #print([c[0] for c in chunk])\"\"\"\n",
    "    for word in words:\n",
    "        lemma = lemmatizer.lemmatize(word)\n",
    "        #for chunk in nltk.ne_chunk(nltk.pos_tag(nltk.word_tokenize(sent))):\n",
    "        if len(lemma) > 1:\n",
    "            lem.append(lemma)\n",
    "    lem = [w.lower() for w in lem if not w in stop_words and w not in names]\n",
    "    lemmas.append(lem)\n",
    "#print(lemmas)\n",
    "\n",
    "end = time.time()\n",
    "\n",
    "print(\"--- %s seconds ---\" % (end - start))"
   ]
  },
  {
   "cell_type": "code",
   "execution_count": null,
   "metadata": {},
   "outputs": [],
   "source": [
    "lemmatizer = WordNetLemmatizer()\n",
    "\n",
    "lemmas = []\n",
    "\n",
    "for key, value in messages.items():\n",
    "    words = word_tokenize(value)\n",
    "    lem = []\n",
    "    names = []\n",
    "    for chunk in nltk.ne_chunk(nltk.pos_tag(words)):\n",
    "    #for chunk in nltk.ne_chunk(nltk.pos_tag(nltk.word_tokenize(nltk.sent_tokenize(value)[0]))):\n",
    "        if hasattr(chunk, 'label') and chunk.label() == 'PERSON':\n",
    "            #print(chunk.label(), ' '.join(c[0] for c in chunk))\n",
    "            names.extend([c[0] for c in chunk])\n",
    "            #print([c[0] for c in chunk])\n",
    "    for word in words:\n",
    "        lemma = lemmatizer.lemmatize(word)\n",
    "        #for chunk in nltk.ne_chunk(nltk.pos_tag(nltk.word_tokenize(sent))):\n",
    "        if len(lemma) > 1:\n",
    "            lem.append(lemma)\n",
    "    lem = [w for w in lem if not w in stop_words and w not in names]\n",
    "    lemmas.append(lem)\n",
    "print(lemmas)"
   ]
  },
  {
   "cell_type": "code",
   "execution_count": null,
   "metadata": {},
   "outputs": [],
   "source": [
    "len(lemmas)"
   ]
  },
  {
   "cell_type": "code",
   "execution_count": null,
   "metadata": {},
   "outputs": [],
   "source": [
    "lemmatizer = WordNetLemmatizer()\n",
    "\n",
    "lemmas = []\n",
    "\n",
    "for key, value in messages.items():\n",
    "    words = word_tokenize(value)\n",
    "    lem = []\n",
    "    for word in words:\n",
    "        lemma = lemmatizer.lemmatize(word)\n",
    "        if len(lemma) > 1:\n",
    "            lem.append(lemma)\n",
    "    lem = [w for w in lem if not w in stop_words]\n",
    "    lemmas.append(lem)"
   ]
  },
  {
   "cell_type": "code",
   "execution_count": null,
   "metadata": {},
   "outputs": [],
   "source": [
    "from collections import Counter\n",
    "\n",
    "counter = Counter(all_lems).most_common()"
   ]
  },
  {
   "cell_type": "code",
   "execution_count": null,
   "metadata": {},
   "outputs": [],
   "source": [
    "stop_words_from_freq = [\"pipedrive\", \"please\", \"help\", \"know\", \"let\", \"see\", \"'s\", \"need\", \"would\", \"question\", \"``\", \"day\", \"get\", \"one\", \"possible\", \"feel\", \"wa\", \"''\", \"ha\", \"want\", \"like\", \"thank\", \"already\", \"yes\", \"ok\", \"done\", \"still\", \"great\", \"could\", \"soon\", \"also\", \"anything\", \"well\", \"right\", \"sure\", \"um\", \"else\"]"
   ]
  },
  {
   "cell_type": "code",
   "execution_count": null,
   "metadata": {},
   "outputs": [],
   "source": [
    "new_lemmas = []\n",
    "\n",
    "for lem_list in lemmas:\n",
    "    new_lemmas.append([word for word in lem_list if word not in stop_words_from_freq])"
   ]
  }
 ],
 "metadata": {
  "kernelspec": {
   "display_name": "Python 3",
   "language": "python",
   "name": "python3"
  },
  "language_info": {
   "codemirror_mode": {
    "name": "ipython",
    "version": 3
   },
   "file_extension": ".py",
   "mimetype": "text/x-python",
   "name": "python",
   "nbconvert_exporter": "python",
   "pygments_lexer": "ipython3",
   "version": "3.8.5"
  }
 },
 "nbformat": 4,
 "nbformat_minor": 2
}
