{
 "cells": [
  {
   "cell_type": "code",
   "execution_count": null,
   "metadata": {},
   "outputs": [],
   "source": [
    "import os\n",
    "import re\n",
    "from collections import defaultdict\n",
    "\n",
    "from langdetect import detect\n",
    "import pandas as pd\n",
    "\n",
    "data = defaultdict(lambda: {'topic': '', 'content': '', 'messages': []})\n",
    "\n",
    "for file_path in os.listdir(\"cleaned_intercom_messages\"):\n",
    "    csv = pd.read_csv(\"cleaned_intercom_messages/\" + file_path)\n",
    "    csv = csv[csv['clean_body'].notna()]\n",
    "    bodies = csv[\"clean_body\"]\n",
    "    ids = csv[\"key_intercomconversation\"]\n",
    "    for id, body in zip(ids, bodies):\n",
    "        m = re.search(\" Selected category: (.+) Content: (.+) uid:\", body)\n",
    "        if m is not None:\n",
    "            data[id]['topic'] = m.group(1)\n",
    "            data[id]['content'] = m.group(2)\n",
    "        else:\n",
    "            data[id]['messages'].append(body)\n",
    "\n",
    "df = pd.DataFrame.from_dict(data, orient=\"index\")\n",
    "print(len(df[df[\"topic\"] == '']))\n",
    "print(len(df[df[\"topic\"] != '']))\n"
   ]
  },
  {
   "cell_type": "code",
   "execution_count": null,
   "metadata": {},
   "outputs": [],
   "source": [
    "# For initial statistics and preprocessing, we are going to choose a subset\n",
    "# of the initial data to save time. We are going to use 10'000 messages out\n",
    "# of 273'417.\n",
    "\n",
    "testdf = df[:10000]"
   ]
  },
  {
   "cell_type": "code",
   "execution_count": null,
   "metadata": {},
   "outputs": [],
   "source": [
    "from collections import defaultdict\n",
    "\n",
    "total = 0\n",
    "\n",
    "dictio = defaultdict(int)\n",
    "\n",
    "for i in testdf[testdf[\"topic\"] == '']['messages']:\n",
    "    message_as_string = ' '.join(i)\n",
    "    try:\n",
    "        dictio[detect(message_as_string)] += 1\n",
    "    except:\n",
    "        continue\n",
    "    total += 1"
   ]
  },
  {
   "cell_type": "code",
   "execution_count": null,
   "metadata": {},
   "outputs": [],
   "source": [
    "from matplotlib import pyplot as plt\n",
    "import numpy as np"
   ]
  },
  {
   "cell_type": "code",
   "execution_count": null,
   "metadata": {},
   "outputs": [],
   "source": [
    "df_languages = pd.DataFrame.from_dict(dictio, orient=\"index\", columns=['count'])\n",
    "\n",
    "\n",
    "df_languages = df_languages[df_languages['count']>=10]\n",
    "df_languages = df_languages.sort_values('count', ascending=False)\n",
    "plt.bar(range(len(df_languages.index)), df_languages['count'], tick_label=df_languages.index)\n",
    "plt.title(\"Count of languages in 10'000 messages\")\n",
    "\n",
    "plt.show()\n"
   ]
  },
  {
   "cell_type": "code",
   "execution_count": null,
   "metadata": {},
   "outputs": [],
   "source": [
    "print(\"Percentage of English conversations based on first 10'000 messages: {}\".format(df_languages['count']['en']/total))"
   ]
  },
  {
   "cell_type": "code",
   "execution_count": null,
   "metadata": {},
   "outputs": [],
   "source": [
    "df_lang_without_en = df_languages[df_languages.index != 'en']\n",
    "\n",
    "plt.bar(range(len(df_lang_without_en.index)), df_lang_without_en['count'], tick_label=df_lang_without_en.index)\n",
    "plt.title(\"Count of languages in 10'000 messages without English\")\n",
    "\n",
    "plt.show()"
   ]
  }
 ],
 "metadata": {
  "kernelspec": {
   "display_name": "Python 3",
   "language": "python",
   "name": "python3"
  },
  "language_info": {
   "codemirror_mode": {
    "name": "ipython",
    "version": 3
   },
   "file_extension": ".py",
   "mimetype": "text/x-python",
   "name": "python",
   "nbconvert_exporter": "python",
   "pygments_lexer": "ipython3",
   "version": "3.8.5"
  }
 },
 "nbformat": 4,
 "nbformat_minor": 4
}
