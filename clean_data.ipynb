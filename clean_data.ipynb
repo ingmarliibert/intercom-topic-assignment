{
 "cells": [
  {
   "cell_type": "code",
   "execution_count": 51,
   "metadata": {},
   "outputs": [
    {
     "name": "stdout",
     "output_type": "stream",
     "text": [
      "273417\n",
      "10\n"
     ]
    }
   ],
   "source": [
    "import os\n",
    "import re\n",
    "from collections import defaultdict\n",
    "\n",
    "import pandas as pd\n",
    "\n",
    "data = defaultdict(lambda: {'topic': '', 'content': '', 'messages': []})\n",
    "\n",
    "for file_path in os.listdir(\"cleaned_intercom_messages\"):\n",
    "    csv = pd.read_csv(f\"cleaned_intercom_messages/{file_path}\")\n",
    "    csv = csv[csv['clean_body'].notna()]\n",
    "    bodies = csv[\"clean_body\"]\n",
    "    ids = csv[\"key_intercomconversation\"]\n",
    "    for id, body in zip(ids, bodies):\n",
    "        m = re.search(\" Selected category: (.+) Content: (.+) uid:\", body)\n",
    "        if m is not None:\n",
    "            data[id]['topic'] = m.group(1)\n",
    "            data[id]['content'] = m.group(2)\n",
    "        else:\n",
    "            data[id]['messages'].append(body)\n",
    "\n",
    "df = pd.DataFrame.from_dict(data, orient=\"index\")\n",
    "print(len(df[df[\"topic\"] == '']))\n",
    "print(len(df[df[\"topic\"] != '']))\n"
   ]
  },
  {
   "cell_type": "code",
   "execution_count": 50,
   "metadata": {},
   "outputs": [
    {
     "data": {
      "text/plain": [
       "[\"reaching out to support! Apologies for the wait. The permission sets/user roles depend on the plan which you are on. For example on the Essential plan you have the admin and regular users, and on Advanced plan there is also the manager role. However both of your companies are on the Professional plan which allows for any custom roles and also gives you the option to delete roles. In this case it seems a role was possibly deleted, however you can also add roles with their own permission sets by clicking on the Add set button at the bottom of the available options: There you'll be able to recreate the Manager set. For reference, the only permissions not available to a Manager (aside from Admin-only privileges like adding users and modifying billing etc) are importing items and modifying labels: Hopes this helps to create the manager role in your {{name}} company but of course these permissions can also be set to your preferences. If there's anything else I can help you with feel free to reach out. Have an awesome day! 😃\",\n",
       " \"It looks Like I don't have the add set button. How do I fox?\",\n",
       " 'fix*',\n",
       " 'Wrong Photo Sorry',\n",
       " 'I\\'ve been trying to fix this issue for quite some time now. Whenever myself \"{{name}} {{name}}\" the admin user makes notes on other deals. No regular user can view these notes? Even though {{name}} {{name}} is following these deals. I\\'ve spent money adding \"another company\" but I\\'m not sure how this fixes the problem. I really need some help here.',\n",
       " \"Sorry to hear about the permissions issue. I will ask our engineers to investigate perhaps there is some feature that is incorrectly disabled or a bug affecting this account, but you should be able to create other sets. I will let you know as soon as I have some news about this! Regarding the notes not being viewable on a deal can you share some screenshot examples of a note you can see and ask the user who can't see the note to share a screenshot of the same? Please make sure the whole screen is visible including the URL so that we can identify the deals and make sure t and use the deal ID to investigate on the back end in case it's a bug. Looking forward to your reply!\",\n",
       " \"Sent to Support Engineers: Title: Manager role missing in Professional plan Selected category: Other Content: UID doesn't have the Manager user role in his Settings and there is no button to add a permission set. Professional plan company so should have Admin, Manager and Regular users: same in backoffice although company is on Professional CID Can we restore Manager set for this company?\",\n",
       " '{{name}} started working on your case',\n",
       " \"{{name}} Closed your case with comment: We've enabled this and other features that were disabled for some reason. The user should now have access to all the features included. Cheers. :)\",\n",
       " \"Our engineers have re-enabled this and some other features that were for some reason deactivated in that company. You should now have access to the Manager set and some other missing features now please have a look, clear your cookies and cache and let me know if that's working now. Looking forward to your reply and the examples and screenshots on the notes issue you mentioned!\",\n",
       " \"This is Christian from Pipedrive and I am following up to let you know that I am still here to help you. I haven't heard back but see that our engineers have re-enabled some of the features including the Manager role on your company. I'll be closing this conversation for now but if you have some other questions or need help regarding anything else we're here to help! Have a great day! 😃\"]"
      ]
     },
     "execution_count": 50,
     "metadata": {},
     "output_type": "execute_result"
    }
   ],
   "source": [
    "df[df[\"topic\"] != '']['messages'].iloc[0]"
   ]
  },
  {
   "cell_type": "code",
   "execution_count": null,
   "metadata": {},
   "outputs": [],
   "source": []
  }
 ],
 "metadata": {
  "kernelspec": {
   "display_name": "Python 3",
   "language": "python",
   "name": "python3"
  },
  "language_info": {
   "codemirror_mode": {
    "name": "ipython",
    "version": 3
   },
   "file_extension": ".py",
   "mimetype": "text/x-python",
   "name": "python",
   "nbconvert_exporter": "python",
   "pygments_lexer": "ipython3",
   "version": "3.6.12"
  }
 },
 "nbformat": 4,
 "nbformat_minor": 4
}
