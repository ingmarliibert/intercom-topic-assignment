{
 "cells": [
  {
   "cell_type": "code",
   "execution_count": 4,
   "metadata": {},
   "outputs": [],
   "source": [
    "import json\n",
    "import pickle\n",
    "from sklearn.feature_extraction.text import CountVectorizer, TfidfVectorizer\n",
    "from sklearn.decomposition import LatentDirichletAllocation\n",
    "from sklearn.model_selection import GridSearchCV\n",
    "from matplotlib import pyplot as plt"
   ]
  },
  {
   "cell_type": "code",
   "execution_count": 5,
   "metadata": {},
   "outputs": [],
   "source": [
    "with open(\"english_texts.json\", \"r\") as file:\n",
    "    texts = json.load(file)\n",
    "\n",
    "with open(\"model.p\", \"rb\") as file:\n",
    "    model = pickle.load(file)"
   ]
  },
  {
   "cell_type": "code",
   "execution_count": 11,
   "metadata": {
    "scrolled": true
   },
   "outputs": [
    {
     "data": {
      "text/plain": [
       "['__abstractmethods__',\n",
       " '__class__',\n",
       " '__delattr__',\n",
       " '__dict__',\n",
       " '__dir__',\n",
       " '__doc__',\n",
       " '__eq__',\n",
       " '__format__',\n",
       " '__ge__',\n",
       " '__getattribute__',\n",
       " '__getstate__',\n",
       " '__gt__',\n",
       " '__hash__',\n",
       " '__init__',\n",
       " '__init_subclass__',\n",
       " '__le__',\n",
       " '__lt__',\n",
       " '__module__',\n",
       " '__ne__',\n",
       " '__new__',\n",
       " '__reduce__',\n",
       " '__reduce_ex__',\n",
       " '__repr__',\n",
       " '__setattr__',\n",
       " '__setstate__',\n",
       " '__sizeof__',\n",
       " '__str__',\n",
       " '__subclasshook__',\n",
       " '__weakref__',\n",
       " '_abc_cache',\n",
       " '_abc_negative_cache',\n",
       " '_abc_negative_cache_version',\n",
       " '_abc_registry',\n",
       " '_check_is_fitted',\n",
       " '_check_n_features',\n",
       " '_estimator_type',\n",
       " '_format_results',\n",
       " '_get_param_names',\n",
       " '_get_tags',\n",
       " '_more_tags',\n",
       " '_pairwise',\n",
       " '_repr_html_',\n",
       " '_repr_html_inner',\n",
       " '_repr_mimebundle_',\n",
       " '_required_parameters',\n",
       " '_run_search',\n",
       " '_validate_data',\n",
       " 'best_estimator_',\n",
       " 'best_index_',\n",
       " 'best_params_',\n",
       " 'best_score_',\n",
       " 'classes_',\n",
       " 'cv',\n",
       " 'cv_results_',\n",
       " 'decision_function',\n",
       " 'error_score',\n",
       " 'estimator',\n",
       " 'fit',\n",
       " 'get_params',\n",
       " 'iid',\n",
       " 'inverse_transform',\n",
       " 'multimetric_',\n",
       " 'n_features_in_',\n",
       " 'n_jobs',\n",
       " 'n_splits_',\n",
       " 'param_grid',\n",
       " 'pre_dispatch',\n",
       " 'predict',\n",
       " 'predict_log_proba',\n",
       " 'predict_proba',\n",
       " 'refit',\n",
       " 'refit_time_',\n",
       " 'return_train_score',\n",
       " 'score',\n",
       " 'scorer_',\n",
       " 'scoring',\n",
       " 'set_params',\n",
       " 'transform',\n",
       " 'verbose']"
      ]
     },
     "execution_count": 11,
     "metadata": {},
     "output_type": "execute_result"
    }
   ],
   "source": [
    "dir(model)"
   ]
  },
  {
   "cell_type": "code",
   "execution_count": 6,
   "metadata": {},
   "outputs": [],
   "source": [
    "vectorizer = TfidfVectorizer()\n",
    "X = vectorizer.fit_transform(texts)"
   ]
  },
  {
   "cell_type": "code",
   "execution_count": 17,
   "metadata": {},
   "outputs": [
    {
     "data": {
      "text/plain": [
       "{3: [('time', 132916),\n",
       "  ('conversation', 131214),\n",
       "  ('back', 117606),\n",
       "  ('case', 114500),\n",
       "  ('reply', 111639),\n",
       "  ('detail', 110731),\n",
       "  ('check', 107671),\n",
       "  ('message', 106850),\n",
       "  ('activity', 102392),\n",
       "  ('way', 101132)],\n",
       " 4: [('check', 53307),\n",
       "  ('back', 53246),\n",
       "  ('working', 52322),\n",
       "  ('free', 49015),\n",
       "  ('time', 48917),\n",
       "  ('sent', 46240),\n",
       "  ('calendar', 46235),\n",
       "  ('send', 44996),\n",
       "  ('try', 43931),\n",
       "  ('engineer', 43038)],\n",
       " 1: [('mais', 18871),\n",
       "  ('eu', 18736),\n",
       "  ('vous', 18624),\n",
       "  ('como', 17910),\n",
       "  ('uma', 17748),\n",
       "  ('si', 17086),\n",
       "  ('le', 16704),\n",
       "  ('email', 16432),\n",
       "  ('você', 16411),\n",
       "  ('un', 16077)],\n",
       " 2: [('time', 28387),\n",
       "  ('case', 27620),\n",
       "  ('escalation', 27327),\n",
       "  ('new', 25744),\n",
       "  ('refund', 25723),\n",
       "  ('check', 25293),\n",
       "  ('team', 25131),\n",
       "  ('able', 24555),\n",
       "  ('message', 24520),\n",
       "  ('free', 24337)],\n",
       " 0: [('try', 8302),\n",
       "  ('create', 8095),\n",
       "  ('starting', 7978),\n",
       "  ('–––', 5317),\n",
       "  ('translated', 5309),\n",
       "  ('email', 4448),\n",
       "  ('automation', 4383),\n",
       "  ('lokalise', 4324),\n",
       "  ('localization', 4321),\n",
       "  ('contact', 3441)]}"
      ]
     },
     "execution_count": 17,
     "metadata": {},
     "output_type": "execute_result"
    }
   ],
   "source": [
    "from collections import defaultdict\n",
    "\n",
    "counter = defaultdict(lambda: defaultdict(int))\n",
    "n = X.shape[0]\n",
    "transformed = model.transform(X[:n])\n",
    "for i in range(n):\n",
    "    counted_words = defaultdict(int)\n",
    "    text = texts[i]\n",
    "    topic = transformed[i].argmax()\n",
    "    for word in text.split():\n",
    "        counter[topic][word] += 1\n",
    "\n",
    "dict2 = dict()\n",
    "\n",
    "for topic in counter:\n",
    "    for word in counter[topic]:\n",
    "        all_contain = True\n",
    "        for topic in counter:\n",
    "            all_contain = all_contain and word in counter[topic]\n",
    "        \n",
    "                \n",
    "    items = list(counter[topic].items())\n",
    "    items.sort(key=lambda x: x[1], reverse=True)\n",
    "    dict2[topic] = items[10:20]\n",
    "    \n",
    "dict2"
   ]
  },
  {
   "cell_type": "code",
   "execution_count": 10,
   "metadata": {},
   "outputs": [
    {
     "name": "stdout",
     "output_type": "stream",
     "text": [
      "3 129868\n",
      "4 39729\n",
      "1 10677\n",
      "2 27528\n",
      "0 17893\n",
      "[['im talking ot guy lll jejfiabfiabg hm riley young linked se- blank email thread subject'], ['hello trouble connecting zapier drag across email mobile number zapier issue time available chat advise time desk open australia zapier allow transfer field data first last name phone number email work terminate appears either set person deal reply find recent conversation support none related zapier afraid send something proactively without leave come back answer automatic work flow template setup advise change sending email contacting technical check information contact support team via e-mail available live chat following step facebook allow answer within send message apology time answer meanwhile wish'], ['add user account reaching support find information add user checking require free reply open new conversation touch another support member'], ['hope idea solution yet peacock investments pvt ltd monarakanda estate koslanda uva province sri lanka map uk websites hope reaching back regard issue however noticed facing issue email threading correct emails threaded together system detects email fulfill two condition email matching subject line email two matching participant including sender receiver anyone cc includes sender email threaded together linked deal contact person unfortunately email threaded together longer unthreaded apology inconvenience may caused prevent email threaded together moving forward recommend either ensuring email sent unique subject line using email sync feature send email directly since email sent trigger threading condition look knowledge base article email threading clarification user gmail email provider make upgrade latest version resolved lot threading issue latest version hope understand luís'], ['company pd make default typically reply minute reaching default company company started change always select second company default company always first company started pas along feedback development changed royal pita change change every time 2nd company sound simple enough much good morning wanted follow ask concern close conversation donej vp sales'], ['assign user another reaching support mean re-assign deal contact assign item user another changing ownership either detail view list view using bulk-edit feature hope free reach awesome meant move user account geeta mujahid elaborating deactivated account geeta active account mujahid simply convert deactivated account transfer ownership item geeta point re-assign item belong geeta reactivate account temporarily geeta use bulk-edit feature transfer item another user mujahid deactivate geeta receive credit note pocket reactivating user process'], ['download data tell thx typically reply minute hi reaching whenever technical billing hesitate reaching support team via email via chat /7 reassigning chat support team case unassigned download data retention case rafa support team lot reaching hope message find able screen record video showing export download data hope message find following nice hope find time passed since heard make require side helping hand future hesitate reaching wish'], ['close account typically reply minute hi reaching whenever technical billing hesitate reaching support team via email via chat /7 reassigning chat support team case unassigned daniel nice meet cancelled account wanted chance back check hope able work together daniel'], ['integrate godaddy workspace webmail typically reply minute reaching integrate email system good morning wanted follow ask close conversation offer email marketing tool email marketing feature workflow automation feature send automatic email group emailing feature send mass email article explains workflow automation feature'], [\"way download email deal typically reply minute reaching export information deal detail view export email cc deal chief staff elevating expansion click button top hand side click export able export information detail view hold testing hmmm following email expand email top hand corner deal three dot article explains oh tried does'nt export email cc deal email ah letting way export data deal way export email directly deal information tied detail view deal thanks welcome good morning wanted follow ask concern close conversation close chief staff elevating expansion letting\"]]\n"
     ]
    }
   ],
   "source": [
    "for topic in counter:\n",
    "    print(topic, len(counter[topic]))\n",
    "    \n",
    "print(counter[3][:10])"
   ]
  }
 ],
 "metadata": {
  "kernelspec": {
   "display_name": "Python 3",
   "language": "python",
   "name": "python3"
  },
  "language_info": {
   "codemirror_mode": {
    "name": "ipython",
    "version": 3
   },
   "file_extension": ".py",
   "mimetype": "text/x-python",
   "name": "python",
   "nbconvert_exporter": "python",
   "pygments_lexer": "ipython3",
   "version": "3.6.12"
  }
 },
 "nbformat": 4,
 "nbformat_minor": 4
}
