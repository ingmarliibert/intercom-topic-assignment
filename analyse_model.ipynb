{
 "cells": [
  {
   "cell_type": "code",
   "execution_count": 3,
   "metadata": {},
   "outputs": [],
   "source": [
    "import json\n",
    "import pickle\n",
    "from sklearn.feature_extraction.text import CountVectorizer, TfidfVectorizer\n",
    "from sklearn.decomposition import LatentDirichletAllocation\n",
    "from sklearn.model_selection import GridSearchCV\n",
    "from matplotlib import pyplot as plt"
   ]
  },
  {
   "cell_type": "code",
   "execution_count": 4,
   "metadata": {},
   "outputs": [],
   "source": [
    "with open(\"english_texts.json\", \"r\") as file:\n",
    "    texts = json.load(file)\n",
    "\n",
    "with open(\"model.p\", \"rb\") as file:\n",
    "    model = pickle.load(file)"
   ]
  },
  {
   "cell_type": "code",
   "execution_count": 5,
   "metadata": {},
   "outputs": [],
   "source": [
    "vectorizer = TfidfVectorizer()\n",
    "X = vectorizer.fit_transform(texts)"
   ]
  },
  {
   "cell_type": "code",
   "execution_count": 12,
   "metadata": {},
   "outputs": [],
   "source": [
    "from collections import defaultdict\n",
    "\n",
    "counter = defaultdict(list)\n",
    "n = X.shape[0]\n",
    "transformed = model.transform(X[:n])\n",
    "for i in range(n):\n",
    "    counted_words = defaultdict(int)\n",
    "    text = texts[i]\n",
    "    for word in text.split():\n",
    "        counted_words[word] += 1\n",
    "    topic = transformed[i].argmax()\n",
    "    counter[topic].append([texts[i]])"
   ]
  },
  {
   "cell_type": "code",
   "execution_count": 18,
   "metadata": {},
   "outputs": [
    {
     "name": "stdout",
     "output_type": "stream",
     "text": [
      "3 [['im talking ot guy lll jejfiabfiabg hm riley young linked se- blank email thread subject'], ['hello trouble connecting zapier drag across email mobile number zapier issue time available chat advise time desk open australia zapier allow transfer field data first last name phone number email work terminate appears either set person deal reply find recent conversation support none related zapier afraid send something proactively without leave come back answer automatic work flow template setup advise change sending email contacting technical check information contact support team via e-mail available live chat following step facebook allow answer within send message apology time answer meanwhile wish'], ['add user account reaching support find information add user checking require free reply open new conversation touch another support member']]\n",
      "4 [['guys customer come back'], ['change made last change set able multiple user view helio macdonald continue conversation saw queue hélio taking andré unable assist whenever change something notify nevertheless making change lately affect set tell happening asked assist check guy manages end problem rest take care warm regard'], ['hi treat new conversation customer responding email sent two year ago']]\n",
      "1 [['oi fernando gostaria de confirmar se possui conta ativa com você ao que lembro nós fechamos toda contas por favor pode ajudar abraço diretor consultoria de investimentos tel whatsapp olá contas na são associadas email não nome de empresas nesse sentido associado ao email pelo qual contacta não tem nenhuma conta associada em caso de dúvidas já sabe onde encontrar suporte da atenciosamente'], ['love person boa tarde daqui obrigada por entrar em contato conosco uns momentos por favor enquanto verifico essa possibilidade para você tense live conversation going notice ago write complete/ email answer bom dia estou lhe escrever respeito de uma mensagem que enviou alguns dia atrás perguntar se existiria possibilidade de agendar treinamento fico feliz em saber que você está trazendo novos usuários para temos muitos materiais para começar recomendo que novos usuários se inscrevam em nossos webinars vivo para uma demonstração gratuita ou que vejam nossa academia para tutoriais detalhados sobre como aproveitar máximo recursos disponíveis nossa central de suporte também conta com guias perguntas frequentes caso você precise de maior assistência personalizável dependendo da necessidades específicas de cada empresa então recomenda-se que cada usuário entenda primeiro conceitos básicos aqui estão alguns artigos para ajudá-los começar recursos básicos vídeos de instrução uma bela visão geral caso tenham dúvidas eles também podem entrar em contato qualquer momento com equipe de suporte por meio de e-mail chat vivo por favor esteja vontade para responder-me dizer se ficou tudo claro ou se precisa de mais ajuda ou resposta para outras questões atenciosamente rebecca olá como não tive notícias suas vou suspender essa conversa meu lado por enquanto entanto por favor esteja vontade para responder-me por aqui novamente reabri-la ou enviar novo email para se necessário ótima semana para você'], ['bom dia claudio nao consigo contato com diogo favor notar que por causa da pandemia fechamos agência dia /3/ solicitamos cancelamento da assinatura perguntamos como ficariam nosso registros até data não obteve resposta nem posicionamento tentamos entrar sistema não permitia visto que estamos em atraso conforme anexo considerei assinatura cancelada porem nao sei como vocês conseguiram porém apareceu na fatura cartão de crédito cancelado passar valor de maio sendo que serviço de vocês ja foi cancelado mês de abril favor reverter este valor ele não devido agradeço sua compreensão bom dia grato por seu contato lamento que tenha decidido encerrar cancelar sua subscrição verifico entanto que nunca foi dada ordem de cancelamento ao que conta ficou com pagamento pendente que continuamos tentar cobrar desde de abril após várias tentativas de cobrança falhadas cobrança para valor de abril finalmente passou dia de maio embora cobrança apenas tenha acontecido de maio referente mensalidade de abril entendo que informa que cancelou serviço em abril pode explicar de que forma fez cancelmento não verifico nenhuma informação que serviço tenha sido cancelado da sua parte por isso sistema continuou tentar cobrar valor em falta de abril que seu banco aceitou em de maio apenas após esta data verifico contatos seus com pedido de cancelamento atentamente cláudio fernandes management team']]\n",
      "2 [['cancel plan typically reply minute hi reaching sad hear decision leave checked company green shoot capital confirm subscription cancelled expire jan last billing cycle invoice issued subscription suggest exporting data jan date access account restricted reopen account future simply import data back hope free back glad year amir'], ['manually pay past due invoice reaching mind love forward conversation customer solutions team provide assistance able provide email address ensure mean continuing conversation case step away patience shortly email agent capacity apology delay free explain query detail name stacey support assist reaching added correspondence give moment look account manually pay invoice figure okay give moment check attempted collect payment manually end unable manually create new invoice escalation billing name stacey c. escalation billing billing escalation case record renewal date change invoice failed original renewal date new renewal date failed invoice total failed invoice frequency monthly intercom link company name encor solar company id user id escalation notes communicated escalation id cassie change reflected otherwise best regards stacey billing escalation working case grand couple thing bring attention regard similar case future checked customer failed transaction reason original message seems situation take real actionable step seems might wrong customer request payment method asking way pay actually manually via wire check smaller account monthly fail previous invoice skip payment month doe fix core issue issue customer card give free month usage re-issued invoice moving billing cycle time/date nearest hour today account back past due status ask customer touch bank use different payment method good billing escalation resolved case sent back stacey escalation id confusing case cassie assist warm regards stacey think good getting back reminder reach support additional information may take care wonderful best regard stacey'], ['cancelled account billing show today next billing date charged refund asap used service months typically reply minute hello hi reaching whenever technical billing hesitate reaching support team via email via chat /7 reassigning chat support team case unassigned contacting support helena given gredit april following ask enjoy subsciption cancelled moment might assist nice checking require free reply open new conversation touch another support member']]\n",
      "0 [['le témoignage de campings.com campings.com testimonial conversation language french create note starting respond customer language try'], ['tere ingmar näen et antud küsimuses teile juba täna varasemalt vastanud minu kolleeg vladimir juhul kui teil lisaküsimusi muudel teemadel palun andke teada seniks head õhtu jätku tänud ega ei oska öelda kuna telefoni äpis saab hakata tehingutele silte lisama hetkel veel ei toimi tõepoolest praeguse seisuga pole tehingute sildid veel mobiiliäpis saadaval kui töötame selle nimel et ka sinna tulevikus lisada head nädalavahetust tänud tagasiside eest'], [\"ciao bruna come stai bisogno di un'aiuto siccome dovevo creare delle offerte massive su alcuni contatti ho esportato un file rimportato con le informazioni più solo che non perchè si sono cancellati dati dell'indirizzo perchè non avevo esportato tutte le informazioni mi spiego ho esportato che vedi nel file che sono tutti sotto l'etichetta specializzati non avendo esportato l'indirizzo completo quando sono andata rimportare dati con la fase dell'offerta mi cancellato tutti gli indirizzi anche se fatto ripristina non sono tornati ciao elisa come stai mi fa piacere sentirti al momento sto indagando tuo caso grazie fammi sapere lo farò bruna ho risolto grazie lo stesso che ho importato nuovamente dati questa volta era tutto corretto grazie nulla scusa il ritardo ho dovuto saltare una riunione ciao bruna scusa esiste un modo per fare delle sotto offerte ciao elisa al momento non proprio il meglio che posso consigliare non aggiungere alcun valore all'affare un campo personalizzato aggiungi il valore sotto inoltrerò il tuo feedback direttamente al nostro team di prodotto attraverso un canale interno così posso assicurarti che il tuo feedback sia valutato preso considerazione per futuri miglioramenti del prodotto provo spiegarti perchè ti facevo questa domanda così mi dici se ci sono altre soluzione ogni settimana ci sono dei contatti che vanno chiamati prendere l'ordine io ho bisogno di poter differenziare quelli che hanno fatto l'ordine questa settimana da quelli che non lo hanno fatto entrambi contatti hanno come fase successiva la richiamata forse potresti creare un tipo di attività personalizzato che sarebbe prendere l'ordine quindi nelle attività filtreresti per vedere quali contatti hanno effettuato l'ultimo ordine questa settimana il mese scorso ciao elisa come stai posso aiutare con qualche altre domande saluti ciao bruna ti devo chiedere una co una cosa come faccio dare l'abilitazione agli altri utenti poter moficare le offerte bruna fondo since back mind continue thaaaank youuuu ciao elisa gli utenti dovrebbero avere la possibilità di modificare le altre offerte finché riescono vedere l'affare dovrebbero già essere grado di aggiungere informazioni ad esso ciao si scusa io intendo aggiungere modificare le fase della pipeline perchè ho visto che non un flag specifico nelle autorizzazioni ah ok. vedo poiché il cambiamento delle pipeline qualcosa che può influire sull'intera azienda qualcosa che solo gli utenti amministratori possono fare causa della sicurezza ed evitare errori futuro purtroppo questo il valore predefinito non possiamo cambiarlo posso aiutare con ulteriori domande caso di domande futuro fammi sapere migliori saluti ciao bruna un modo per inserire più organizzazioni dentro ad una pipeline con un solo tasto ciao elisa il solo modo per inserire contemporaneamente più organizzazioni tramite le importazioni seconda come avresti aggiungere queste organizzazioni potresti creare un'automazione che sia aiuto ciao brunaaaaaaaa ––– translated lokalise🐟 come stai tutto bene ––– translated lokalise🐟 scusa il disturbo una domanda sorry bother ––– translated lokalise🐟 come faccio filtrare dalle attività tutte quelle che non son contenute una offerta filter activity offer ––– translated lokalise🐟 provato con fase non tried phase zero ––– translated lokalise🐟 ciao elisa fine hope family safe screenshot ciao elisa sto bene grazie tu che tu la tua famiglia siate tutti sicuro lasciate che vi faccia uno screenshot tutto bene fortuna grazie everything fine ––– translated lokalise🐟 spero anche tu la tua famigia hope family ––– translated lokalise🐟 mine fine miei vanno bene grazie go ecco voi aaaahh grazie non ci avevo pensato aaaahh think ––– translated lokalise🐟 posso poi maniera massiva associarli tutti ad una fase massively associate phase ––– translated lokalise🐟 creare l'attività dalle attività non lo fa fare giustamente start business business doe make ––– translated lokalise🐟 add bulk must via update import especially link deal specific stage- per aggiungerli all'ingrosso deve essere fatto tramite l'importazione degli aggiornamenti soprattutto se necessario collegarli ad offerte una fase specifica- ah ciao che stia tutto benne con te posso aiutare con qualche altri domande ciao bruna scusa il disturbo ho bisogno di un aiuto un modo di filtrare tutte le organizzazioni che non hanno un offerta inserita dentro ad una specifica pipeline sorry bother way filter organization offer included specific pipeline ––– translated lokalise🐟 reaching unfortunately moment shift ended sent colleague filter doe work reach tomorrow ciao elisa grazie per averci raggiunto purtroppo al momento il mio turno terminato ho inviato un aiuto al mio collega per vedere se può aiutarmi con il filtro se non dovesse funzionare fatemelo sapere vi contatterò domani grazie perché ho scritto ad un tuo collega non riesce ad aiutarmi dai allora ti scrivo domani grazie wrote colleague come write tomorrow thanks ––– translated lokalise🐟 ciao bruna con non sono riuscita con pedro make ––– translated lokalise🐟 quando inizi il turno fammi sapere che chiedo te grazie start shift asking ––– translated lokalise🐟 trust checking issue filter resolved look forward hearing back best regards ciao elisa confido che tu stia andando bene sto controllando per vedere se il problema con il filtro stato risolto non vedo l'ora di risentirla cordiali saluti hope good weekend contacting best regards ciao che tu abbia passato un buon fine settimana la sto contattando per vedere se posso aiutarla con eventuali domande cordiali saluti ciao non sono ancora riuscita risolvere quel problema able solve problem yet ––– translated lokalise🐟 perchè il collega non riuscito ad aiutarmi colleague ––– translated lokalise🐟 come cevo lui io bisogno poter filtrare tutte le organizzazioni che non sono all'interno una specifica pipeline telling able filter organization within specific pipeline ––– translated lokalise🐟 provato creare questo filtro qui mi fa vedere le organizzazioni che hanno la pipeline cassone romagnolo tried create filter doe show organization pipeline cassone romagnolo ––– translated lokalise🐟 clarify filter every organisation deal inside pipeline stage cassone romagnolo ciao per chiarire volete un filtro di ogni organizzazione che abbia un affare che non sia all'interno della fase di pipeline cassone giusto esatto exact ––– translated lokalise🐟 perchè così poi posso esportarle creare tuti l'offerta mancante export create missing offering ––– translated lokalise🐟 test side fatemi provare questo mia parte vediamo cosa posso fare video creating filter show every organization linked deal cassone stage ecco un video crea un filtro questo dovrebbe mostrare ogni organizzazione legata ad un affare non fase solo che cassone non una fase una pipeline okay except cassone phase pipeline ––– translated lokalise🐟 ho provato mettere nella parte sotto delle condizioni tutte le fasi della pipeline cassone non funzionato tried condition phase pipeline box work ––– translated lokalise🐟 ciao elisa case filter ciao elisa case filter elisa se cassone una pipeline il filtro dovrebbe essere cosí ciao elisa questo caso il filtro sarebbe così ciao elisa questo caso il filtro sarebbe così io l'ho fatto non mi da il risultato corretto okay doe give result ––– translated lokalise🐟 able recording step taking end saresti grado di registrare passi che stai compiendo dalla tua parte non se tu puoi provare ad entrare nel mio account try account ––– translated lokalise🐟 come faccio fare la registrazione make recording ––– translated lokalise🐟 unfortunately permission enter client account unless case technical issue use purtroppo non abbiamo l'autorizzazione ad accedere al conto clienti se non caso di problemi tecnici possibile utilizzare proviamo se così si vede try way ––– translated lokalise🐟 ti ho fatto la registazione sia con il filtro pipeline cassone che pipeline non cassone made registry pipeline filter cassone pipeline cassone ––– translated lokalise🐟 ti ho inviato sia il link che il file dowload che non magari dove si vede meglio information using trial version evaluate subsequent purchase amount excel contact change city contact entered example contact bologna automatically recognizes map milan ––– translated lokalise🐟 sent link dowload file best seen ––– translated lokalise🐟 going look back best regards grazie elisa vado dare un'occhiata ti richiamo cordiali saluti ciao bruna non ho saputo più niente heard ––– translated lokalise🐟 ciao elisa sending video apology delay filter seems running correctly open deal appear result doe match filter condition maybe add condition create specific filter look forward hearing back best regards ciao elisa grazie per aver inviato il video le mie scuse per il ritardo il filtro sembra funzionare correttamente quando si apre un affare che non dovrebbe apparire nei risultati non corrisponde alle condizioni del filtro forse dobbiamo aggiungere altre condizioni per creare un filtro più specifico non vedo l'ora di risentirla cordiali saluti hope checking moment open deal feature exclude look forward hearing back best regards ciao che tu stia anndo bene sto controllando per vedere se avete avuto un momento per aprire una delle offerte modo poter vedere quale caratteristica dovremmo escludere non vedo l'ora di avere tue notizie cordiali saluti ciao amir un modo di bloccare agli utenti la possibilità di modificare le attività assegnate io vorrei che potessero solo spuntarle non modificare la data way block user changing assigned task wish tick change date ––– translated lokalise🐟 reaching unfortunately option limit regular user editign visibility item ciao elisa grazie per averci raggiunto purtroppo non abbiamo questa possibilità possibile limitare la visibilità degli articoli solo agli utenti abituali di editign ciao elisa trust reaching set wish ahead issue arise free reach chat /7 find instruction feature ciao elisa confido che tu stia andando bene sto cercando di capire se posso aiutarvi con altre domande se siete pronti vi auguro una buona giornata se dovessero sorgere problemi non esitate contattarci chat ore su giorni su oppure trovate le istruzioni per tutte le nostre funzioni su cordiali saluti\"]]\n"
     ]
    }
   ],
   "source": [
    "for topic in counter:\n",
    "    print(topic, counter[topic][:3])"
   ]
  }
 ],
 "metadata": {
  "kernelspec": {
   "display_name": "Python 3",
   "language": "python",
   "name": "python3"
  },
  "language_info": {
   "codemirror_mode": {
    "name": "ipython",
    "version": 3
   },
   "file_extension": ".py",
   "mimetype": "text/x-python",
   "name": "python",
   "nbconvert_exporter": "python",
   "pygments_lexer": "ipython3",
   "version": "3.6.12"
  }
 },
 "nbformat": 4,
 "nbformat_minor": 4
}
