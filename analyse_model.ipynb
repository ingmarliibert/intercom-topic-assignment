{
 "cells": [
  {
   "cell_type": "code",
   "execution_count": null,
   "metadata": {},
   "outputs": [],
   "source": [
    "import json\n",
    "import pickle\n",
    "from sklearn.feature_extraction.text import CountVectorizer, TfidfVectorizer\n",
    "from sklearn.decomposition import LatentDirichletAllocation\n",
    "from sklearn.model_selection import GridSearchCV\n",
    "from matplotlib import pyplot as plt\n",
    "from collections import defaultdict\n",
    "import numpy as np"
   ]
  },
  {
   "cell_type": "code",
   "execution_count": null,
   "metadata": {},
   "outputs": [],
   "source": [
    "with open(\"english_texts.json\", \"r\") as file:\n",
    "    texts = json.load(file)"
   ]
  },
  {
   "cell_type": "code",
   "execution_count": null,
   "metadata": {},
   "outputs": [],
   "source": [
    "n_topics = [3, 5, 7, 9]\n",
    "decays = [0.5, 0.7, 0.9]\n",
    "models = {}\n",
    "for n_topic in n_topics:\n",
    "    for decay in decays:\n",
    "        with open(f\"model_{n_topic}_{decay}.p\", \"rb\") as file:\n",
    "            model = pickle.load(file)\n",
    "            models[(n_topic, decay)] = model"
   ]
  },
  {
   "cell_type": "code",
   "execution_count": null,
   "metadata": {},
   "outputs": [],
   "source": [
    "vectorizer = TfidfVectorizer()\n",
    "X = vectorizer.fit_transform(texts)"
   ]
  },
  {
   "cell_type": "code",
   "execution_count": null,
   "metadata": {},
   "outputs": [],
   "source": [
    "scores_by_decays = defaultdict(list)\n",
    "topics_by_decays = defaultdict(list)\n",
    "for n_topic, decay in models:\n",
    "    model = models[(n_topic, decay)]\n",
    "    scores_by_decays[decay].append(model.score(X))\n",
    "    topics_by_decays[decay].append(n_topic)"
   ]
  },
  {
   "cell_type": "code",
   "execution_count": null,
   "metadata": {},
   "outputs": [],
   "source": [
    "plt.figure(figsize=(12, 8))\n",
    "\n",
    "for decay in scores_by_decays:\n",
    "    scores = scores_by_decays[decay]\n",
    "    topics = topics_by_decays[decay]\n",
    "    plt.plot(topics, scores, label=str(decay))\n",
    "\n",
    "plt.title(\"Choosing Optimal LDA Model\")\n",
    "plt.xlabel(\"Num Topics\")\n",
    "plt.ylabel(\"Log Likelyhood Scores\")\n",
    "plt.legend(title='Learning decay', loc='best')\n",
    "plt.savefig(\"optimal_model.png\")"
   ]
  },
  {
   "cell_type": "code",
   "execution_count": null,
   "metadata": {
    "scrolled": true
   },
   "outputs": [],
   "source": [
    "from collections import defaultdict\n",
    "\n",
    "counter = defaultdict(lambda: defaultdict(int))\n",
    "n = X.shape[0]\n",
    "transformed = model.transform(X)\n",
    "for i in range(n):\n",
    "    counted_words = defaultdict(int)\n",
    "    text = texts[i]\n",
    "    topic = transformed[i].argmax()\n",
    "    for word in text.split():\n",
    "        counter[topic][word] += 1\n",
    "\n",
    "top_words_by_topic = dict()\n",
    "\n",
    "for topic in counter:\n",
    "    items = list(counter[topic].items())\n",
    "    items.sort(key=lambda x: x[1], reverse=True)\n",
    "    top_words_by_topic[topic] = items\n",
    "    \n",
    "top_words_by_topic"
   ]
  },
  {
   "cell_type": "code",
   "execution_count": null,
   "metadata": {},
   "outputs": [],
   "source": [
    "for topic in top_words_by_topic:\n",
    "    with open(f\"{topic}_words.txt\", \"w\", encoding=\"utf-8\") as file:\n",
    "        for word, count in top_words_by_topic[topic]:\n",
    "            file.write(f\"{word.ljust(20)} {count}\\n\")"
   ]
  },
  {
   "cell_type": "code",
   "execution_count": null,
   "metadata": {
    "scrolled": false
   },
   "outputs": [],
   "source": [
    "with open(\"ids_by_lems.json\") as file:\n",
    "    ids_by_lems = json.loads(file.read())\n"
   ]
  },
  {
   "cell_type": "code",
   "execution_count": null,
   "metadata": {},
   "outputs": [],
   "source": [
    "with open(\"english_texts_by_id.json\") as file:\n",
    "    english_texts_by_ids = json.loads(file.read())"
   ]
  },
  {
   "cell_type": "code",
   "execution_count": null,
   "metadata": {},
   "outputs": [],
   "source": [
    "import os\n",
    "import re\n",
    "import pandas as pd\n",
    "from datetime import datetime\n",
    "\n",
    "full_texts_by_id = {}\n",
    "\n",
    "for file_path in os.listdir(\"cleaned_intercom_messages\"):\n",
    "    csv = pd.read_csv(f\"cleaned_intercom_messages/{file_path}\")\n",
    "    csv = csv[csv['clean_body'].notna()]\n",
    "    bodies = csv[\"clean_body\"]\n",
    "    dates = csv[\"created_date\"]\n",
    "    ids = zip(csv[\"key_intercomconversation\"], csv[\"key_iteration\"])\n",
    "    for id, body, date in zip(ids, bodies, dates):\n",
    "        m = re.search(\" Selected category: (.+) Content: (.+) uid:\", body)\n",
    "        if m is not None:\n",
    "            pass\n",
    "        else:\n",
    "            full_texts_by_id[\"_\".join(map(str, id))] = (datetime.strptime(date, \"%Y-%m-%dT%H:%M:%S.%fZ\"), body)\n"
   ]
  },
  {
   "cell_type": "code",
   "execution_count": null,
   "metadata": {},
   "outputs": [],
   "source": [
    "texts_by_topic = defaultdict(list)\n",
    "for i, text in enumerate(texts):\n",
    "    topic = transformed[i].argmax()\n",
    "    id = ids_by_lems[text]\n",
    "    full_text = full_texts_by_id[id]\n",
    "    texts_by_topic[topic].append(full_text)\n",
    "    \n",
    "for topic in texts_by_topic:\n",
    "    texts_by_topic[topic].sort(key=lambda x: x[0])\n",
    "    texts_by_topic[topic] = list(map(lambda x: x[1], texts_by_topic[topic]))"
   ]
  },
  {
   "cell_type": "code",
   "execution_count": null,
   "metadata": {},
   "outputs": [],
   "source": [
    "texts_by_topic = dict(texts_by_topic)\n",
    "\n",
    "for topic in texts_by_topic:\n",
    "    with open(f\"{topic}.txt\", \"w\", encoding=\"utf-8\") as file:\n",
    "        for text in texts_by_topic[topic]:\n",
    "            file.write(text)\n",
    "            file.write(\"\\n\\n\")"
   ]
  }
 ],
 "metadata": {
  "kernelspec": {
   "display_name": "Python 3",
   "language": "python",
   "name": "python3"
  },
  "language_info": {
   "codemirror_mode": {
    "name": "ipython",
    "version": 3
   },
   "file_extension": ".py",
   "mimetype": "text/x-python",
   "name": "python",
   "nbconvert_exporter": "python",
   "pygments_lexer": "ipython3",
   "version": "3.8.5"
  }
 },
 "nbformat": 4,
 "nbformat_minor": 4
}
