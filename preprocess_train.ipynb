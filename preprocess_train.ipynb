{
 "cells": [
  {
   "cell_type": "code",
   "execution_count": 1,
   "metadata": {},
   "outputs": [],
   "source": [
    "from langdetect import detect\n",
    "import os\n",
    "import re\n",
    "from collections import defaultdict"
   ]
  },
  {
   "cell_type": "code",
   "execution_count": 2,
   "metadata": {},
   "outputs": [
    {
     "name": "stdout",
     "output_type": "stream",
     "text": [
      "273417\n",
      "10\n"
     ]
    }
   ],
   "source": [
    "import pandas as pd\n",
    "\n",
    "data = defaultdict(lambda: {'topic': '', 'content': '', 'messages': []})\n",
    "\n",
    "for file_path in os.listdir(\"cleaned_intercom_messages\"):\n",
    "    csv = pd.read_csv(f\"cleaned_intercom_messages/{file_path}\")\n",
    "    csv = csv[csv['clean_body'].notna()]\n",
    "    bodies = csv[\"clean_body\"]\n",
    "    ids = csv[\"key_intercomconversation\"]\n",
    "    for id, body in zip(ids, bodies):\n",
    "        m = re.search(\" Selected category: (.+) Content: (.+) uid:\", body)\n",
    "        if m is not None:\n",
    "            data[id]['topic'] = m.group(1)\n",
    "            data[id]['content'] = m.group(2)\n",
    "        else:\n",
    "            data[id]['messages'].append(body)\n",
    "\n",
    "df = pd.DataFrame.from_dict(data, orient=\"index\")\n",
    "print(len(df[df[\"topic\"] == '']))\n",
    "print(len(df[df[\"topic\"] != '']))"
   ]
  },
  {
   "cell_type": "code",
   "execution_count": 4,
   "metadata": {},
   "outputs": [
    {
     "data": {
      "text/plain": [
       "[\"question. I wanted to send out a group email. Just want to make sure; For the respondents, there is no difference for them if I sent the emails individually it's simply sending the same email again and again to a group of people, right?\",\n",
       " \"Pipedrive Support Bot here! Ask me any question about Pipedrive and I'll be happy to assist you 😊 Although I am a bot, I'll do as best as I can to solve your queries. If there's something I don't understand I'll direct you to my team members.\",\n",
       " 'You can send an email to large groups of your leads using our Group Emailing function. It is available in the following places: The List View of the Deals tab The List View of the Contacts tab The List View of the Activities tab The Timeline view of the Contacts tab You can select up to one hundred contacts when sending one email. Once multiple contacts are selected in any of the places listed above, the Send group email button will appear. Once you click this button, you will be prompted to provide the relevant details about the email you wish to send to that group of contacts. Afterwards, click the Send message button. You can find more details of this feature here: Group Emailing',\n",
       " 'I am following up to let you know that I am still here to help you. Please let me know if I can further assist you and feel free to fire your questions my way. If not, please type \"1\" to close this conversation. 😊 1) My issue is resolved 2) Chat with human',\n",
       " 'Got it. I am directing you to our support team now and one of my human colleagues will be with you shortly to look into this.',\n",
       " 'NOTE this conversation has been escalated by Percept AI agent. If you want to update its reply, please visit this link: (this is a private message only visible to internal CS team)',\n",
       " '👋',\n",
       " 'hi!',\n",
       " 'The Group Emailing feature sends out the same email message to up to contacts by clicking once in the \"send\" button, but each of those emails will be send separately. Does it make sense?',\n",
       " 'Makes perfect sense 👍',\n",
       " 'Good 😊 Can I help with anything else for now?',\n",
       " 'Hi I have another open ticket but the person in charge is set as away. Is there any chance someone else can take a look at it? Not sure how this support thing works',\n",
       " 'It',\n",
       " 'it is a bit urgent for us and it',\n",
       " 'is related to a bug',\n",
       " \"My shift has just started, so the time you've waited. I can see that you've described to Christian that your signature is being sent twice. Is that it?\",\n",
       " 'for getting back to me. That',\n",
       " 'is the one I am talking about, yet.',\n",
       " \"however it's not the exact problem\",\n",
       " 'the images are getting overwritten with other images',\n",
       " 'in the bottom part of the message that acts like a signature. it',\n",
       " \"it's a signature but it's not set up as a signature if you know what i mean\",\n",
       " 'the explanation. Are you sending the emails through Pipedrive?',\n",
       " 'If so. Are you using email templates and the \"signature\" option in the Mail composer?',\n",
       " 'If so, are you*',\n",
       " 'Yes, sending with pipedrive, group email function',\n",
       " 'don',\n",
       " 'don',\n",
       " 'sorry silly keyboard',\n",
       " \"don't use it as signature as i explained\",\n",
       " 'just put everything into the main template',\n",
       " 'The weird thing is that the group of i sent to, were fine, and two of them had the bug. Same batch of sending',\n",
       " 'so it is clearly a bug',\n",
       " 'if you look at screenshots i sent to Christian you will see what i mean.',\n",
       " 'saw it, yes. Can you please send a screenshot of your mail composer? Like this:',\n",
       " 'like this?',\n",
       " 'Yes, thanks!',\n",
       " \"I can see that you're using an email template.\",\n",
       " 'yes',\n",
       " \"Can you please check in the mail composer of your Mail tab there's a signature set? I made this GIF to show you where/how to do it:\",\n",
       " 'no, the field is empty. I used one before but I deleted it as it was better to put everything into the email body',\n",
       " 'checking. Can you please make a test: select this email template; remove the signature part; send me the email: advance!',\n",
       " 'how do I have to add you as a contact first? or can I just type in your email',\n",
       " 'You can just type my email.',\n",
       " 'ok',\n",
       " 'Thanks!',\n",
       " 'sending now',\n",
       " 'without the signature bit',\n",
       " 'Thanks!',\n",
       " 'I just got it, with no signature at all.',\n",
       " 'Can you please send another one with the full email template?',\n",
       " 'you said without the signature, right? ok will send one now with the full template',\n",
       " 'just sent it',\n",
       " 'i am on the train so got a variable connection',\n",
       " 'will try and keep up with whatever you need',\n",
       " 'Yes, I did said. Just to see how it gets without the signature on the email template.',\n",
       " 'cool',\n",
       " \"I got the second email now and it's okay with just one signature.\",\n",
       " 'I know checked the email in the sent folder',\n",
       " 'You said only a some of your contacts received it with two signatures, right?',\n",
       " 'but sometimes it does it and sometimes not',\n",
       " 'I will send you one more to check if happens',\n",
       " 'done but also this one is good',\n",
       " 'not often I want a bug to happen',\n",
       " 'but I do now!',\n",
       " 'would it help if I forward you an email I sent to myself to my gmail account? it has the bug',\n",
       " 'A screenshot of it, please. Also, can you please send me examples (full screenshots showing the URL link) of contacts that got the email with the double signature?',\n",
       " 'ok',\n",
       " 'Thanks!',\n",
       " \"it's not double signatures\",\n",
       " 'it i an image overwriting another image',\n",
       " 'this screenshot shows you both things. The bug AND the contact. it',\n",
       " 'it is from the \"sent\" folder',\n",
       " 'Thanks!',\n",
       " 'Can you please send me full screenshots of the contact-person \"Are Andreassen\"?',\n",
       " 'too big for showing all the info on the screen. this is enough i hope',\n",
       " \"It's more than enough. Thank you 😊\",\n",
       " \"I will escalate this case to our engineers to t investigate what might be happening. It usually takes around hours to hear back from them, but considering that tomorrow is weekend, I'll probably get information from Monday on. In any case, I will let you know as soon as I get.\",\n",
       " \"ok and you don't have a suggestion for a workaround? Guess I have to remove one picture but it is really not a good solution\",\n",
       " 'Have to send out emails on tuesday at the very latest',\n",
       " 'As workaround I would suggest not using the Group Emailing feature and manually remove and add the picture.',\n",
       " 'I tried sending it to me individually and it still happened. I am going to remove my picture and keep the logo which has to be in there.',\n",
       " 'have a nice weekend and the help',\n",
       " 'This is good to know, that means that is not related to the Group Emailing feature. it! Have a great weekend 😊',\n",
       " \"Christian Hansen user reached out on my convo. i've escalated the case to the engineers 😉\",\n",
       " 'This note was deleted',\n",
       " 'Jaan Mölder has given this ticket has a new status: In progress Comment: null',\n",
       " 'Jaan Mölder Closed your case with comment: DONE Please ask user to check all the email templets and remove any copy pasted signature from them as t added separately when template is used. Ping me in case of questions.',\n",
       " \"{{name}}, Hope you're good. Our engineer asked you to check all the email templates and remove any copy pasted signature from them, as t added separately when template is used. After that, please let me know if you find any errors. advance!\",\n",
       " 'Not sure I understand. I should remove the signature as it is added separately? I don’t use the signature field. Please could you give me a detailed step by step on what I need to do in order to fix it? The devil’s in the detail {{name}} {{name}} CBDO {{name}} {{name}} {{name}} M. {{number}} E. W. IN. A. Jakobsoni {{number}}, Viljandi, ESTONIA',\n",
       " 'Actually I don’t really understand this. Are you saying I need to check all the templates? Will signatures from other templates overwrite the template I am using, even though the one I am using does NOT use a signature? {{name}} {{name}} CBDO {{name}} {{name}} {{name}} M. {{number}} E. W. IN. A. Jakobsoni {{number}}, Viljandi, ESTONIA',\n",
       " 'I have re-read you email again, trying to understand. It looks like you are under the impression that it has to do with a double signature, i.e. the signature is added again automatically when you use a template. Is that the case? {{name}} {{name}} CBDO {{name}} {{name}} {{name}} M. {{number}} E. W. IN. A. Jakobsoni {{number}}, Viljandi, ESTONIA',\n",
       " \"{{name}}, Hope this message finds you well. Our engineer made a review on your account on his side and at first didn't find any issues. He asked you to review all the templates and remove any copy pasted signature on them. I did explain to him that there's no signature set up in the email composer.\",\n",
       " 'This is confusing. Should I remove all signatures from all templates? Then I don’t have a signature in my emails! That does not make sense. Do you mean I shoud delete all signatures from the templates and replace them with the same code input into the signature field? That’s not what I have been told but I am just going to assume it’s what I need to do.',\n",
       " \"{{name}}, Apologies for not being so clear before. He only asked you to delete the signatures of the templates. But, yes, you need to add them back or use the signature option of the mail composer, as it would be added automatically to all emails you'd send: If the issue keep happening after that, please let me know so I can tell the engineer. advance.\",\n",
       " 'Ok, do. {{name}}',\n",
       " '{{name}}, please let me know if this worked. Have a great weekend in the meantime!',\n",
       " \"hello :) this user was sending out emails with a template and some of the contacts received the email with two pictures/signature. i've escalated the case to the engineers and jaan asked user to remove all copy pasted signature from them to check if works. since user doesn't have a signature on the mail composer, i told him that he can later re-add the signature or create a signature on the mail composer. in case he reaches back saying that the issue isn't fixed, please {{name}} jaan.\",\n",
       " \"Hope you're good. Passing to check if everything's ok. Do you still need help with this situation? Please let me know if I can help with anything else.\",\n",
       " \"checking in with me. I feel like I have already spent too much time on this and that your team should have enough information to test for yourselves by putting two images into the tool and sending emails to yourselves to see if this happens. I simply don't have time for it and am going to use only one image when I send out email even if it is well below ideal.\",\n",
       " 'slacked jaan',\n",
       " \"{{name}}, I'm sorry that you feel this way. The engineers just ask you to do this as a troubleshooting step. In any case, I've ask him to try give a further look on it, despite this step. I will keep you updated 🙇\",\n",
       " '{{name}}, Hope this message finds you well. The engineer believes that it would be better if you create new signature using the formatting options available in Pipedrive, because copied-pasted signatures can cause issues. He checked the database and saw same the text as in the duplicate signature. And asked you to please share with us a screenshot of the signature field in your mail composer. I made this GIF to show you where to do it: advance!',\n",
       " '{{name}}. I just wanted to circle back with you and let you know we are still here if you still need help with this situation. You can always come back to this conversation or begin a new chat as well with us regarding any new questions to get the most immediate response. Have a great day!',\n",
       " 'will do.',\n",
       " '🙇']"
      ]
     },
     "execution_count": 4,
     "metadata": {},
     "output_type": "execute_result"
    }
   ],
   "source": [
    "df[df[\"topic\"] != '']['messages'].iloc[0]"
   ]
  },
  {
   "cell_type": "code",
   "execution_count": 5,
   "metadata": {},
   "outputs": [],
   "source": [
    "test_df = df[:10000]"
   ]
  },
  {
   "cell_type": "code",
   "execution_count": 39,
   "metadata": {},
   "outputs": [
    {
     "data": {
      "text/html": [
       "<div>\n",
       "<style scoped>\n",
       "    .dataframe tbody tr th:only-of-type {\n",
       "        vertical-align: middle;\n",
       "    }\n",
       "\n",
       "    .dataframe tbody tr th {\n",
       "        vertical-align: top;\n",
       "    }\n",
       "\n",
       "    .dataframe thead th {\n",
       "        text-align: right;\n",
       "    }\n",
       "</style>\n",
       "<table border=\"1\" class=\"dataframe\">\n",
       "  <thead>\n",
       "    <tr style=\"text-align: right;\">\n",
       "      <th></th>\n",
       "      <th>topic</th>\n",
       "      <th>content</th>\n",
       "      <th>messages</th>\n",
       "    </tr>\n",
       "  </thead>\n",
       "  <tbody>\n",
       "    <tr>\n",
       "      <th>13672140114</th>\n",
       "      <td></td>\n",
       "      <td></td>\n",
       "      <td>[{{name}} im also talking ot this guy, lll, je...</td>\n",
       "    </tr>\n",
       "    <tr>\n",
       "      <th>13675529033</th>\n",
       "      <td></td>\n",
       "      <td></td>\n",
       "      <td>[Guys, please help the customer when he comes ...</td>\n",
       "    </tr>\n",
       "    <tr>\n",
       "      <th>13675881994</th>\n",
       "      <td></td>\n",
       "      <td></td>\n",
       "      <td>[Record a video]</td>\n",
       "    </tr>\n",
       "    <tr>\n",
       "      <th>13850823877</th>\n",
       "      <td></td>\n",
       "      <td></td>\n",
       "      <td>[Hello, I'm having trouble connecting Zapier. ...</td>\n",
       "    </tr>\n",
       "    <tr>\n",
       "      <th>13895369856</th>\n",
       "      <td></td>\n",
       "      <td></td>\n",
       "      <td>[View in browser, View in browser]</td>\n",
       "    </tr>\n",
       "  </tbody>\n",
       "</table>\n",
       "</div>"
      ],
      "text/plain": [
       "            topic content                                           messages\n",
       "13672140114                [{{name}} im also talking ot this guy, lll, je...\n",
       "13675529033                [Guys, please help the customer when he comes ...\n",
       "13675881994                                                 [Record a video]\n",
       "13850823877                [Hello, I'm having trouble connecting Zapier. ...\n",
       "13895369856                               [View in browser, View in browser]"
      ]
     },
     "execution_count": 39,
     "metadata": {},
     "output_type": "execute_result"
    }
   ],
   "source": [
    "test_df.head()"
   ]
  },
  {
   "cell_type": "code",
   "execution_count": 3,
   "metadata": {},
   "outputs": [],
   "source": [
    "import re"
   ]
  },
  {
   "cell_type": "code",
   "execution_count": 7,
   "metadata": {},
   "outputs": [
    {
     "data": {
      "text/plain": [
       "'{{name}} is sth'"
      ]
     },
     "execution_count": 7,
     "metadata": {},
     "output_type": "execute_result"
    }
   ],
   "source": [
    "\"{{name}} is sth\".replace(\"{{.*}}\", \"\")"
   ]
  },
  {
   "cell_type": "code",
   "execution_count": 8,
   "metadata": {},
   "outputs": [
    {
     "data": {
      "text/plain": [
       "'{{name}} is sth'"
      ]
     },
     "execution_count": 8,
     "metadata": {},
     "output_type": "execute_result"
    }
   ],
   "source": [
    "\"{{name}} is sth\".replace(str(re.match(\"{{.*}}\", \"{{name}} is sth\")), \"\")"
   ]
  },
  {
   "cell_type": "code",
   "execution_count": 9,
   "metadata": {},
   "outputs": [
    {
     "data": {
      "text/plain": [
       "'is  name'"
      ]
     },
     "execution_count": 9,
     "metadata": {},
     "output_type": "execute_result"
    }
   ],
   "source": [
    "re.sub(r'{{[^}]*}}', '', \"{{name}} is {{number}} name\").strip(\" \")"
   ]
  },
  {
   "cell_type": "code",
   "execution_count": 9,
   "metadata": {},
   "outputs": [],
   "source": [
    "messages = {}\n",
    "\n",
    "#for index, row in test_df.iterrows():\n",
    "for index, row in df.iterrows():\n",
    "    msg = re.sub(r'{{[^}]*}}', '', \" \".join(row['messages']))\n",
    "    messages[index] = msg"
   ]
  },
  {
   "cell_type": "code",
   "execution_count": 4,
   "metadata": {},
   "outputs": [],
   "source": [
    "import nltk\n",
    "from nltk.tokenize import word_tokenize\n",
    "from nltk.stem import WordNetLemmatizer\n",
    "from nltk.corpus import stopwords"
   ]
  },
  {
   "cell_type": "code",
   "execution_count": 12,
   "metadata": {},
   "outputs": [
    {
     "data": {
      "text/plain": [
       "'Guys, please help the customer when he comes back'"
      ]
     },
     "execution_count": 12,
     "metadata": {},
     "output_type": "execute_result"
    }
   ],
   "source": [
    "messages[13675529033]"
   ]
  },
  {
   "cell_type": "code",
   "execution_count": 13,
   "metadata": {},
   "outputs": [
    {
     "data": {
      "text/plain": [
       "109"
      ]
     },
     "execution_count": 13,
     "metadata": {},
     "output_type": "execute_result"
    }
   ],
   "source": [
    "len(messages[13672140114])"
   ]
  },
  {
   "cell_type": "code",
   "execution_count": 5,
   "metadata": {},
   "outputs": [],
   "source": [
    "#nltk.download('stopwords')\n",
    "stop_words = stopwords.words('english')"
   ]
  },
  {
   "cell_type": "code",
   "execution_count": 6,
   "metadata": {},
   "outputs": [],
   "source": [
    "stop_words.extend([\"wo\", \"n't\", \"'m\", \"ca\", \"'ll\", \"'re\", \"'ve\", \"'d\"])"
   ]
  },
  {
   "cell_type": "code",
   "execution_count": 25,
   "metadata": {},
   "outputs": [],
   "source": [
    "lens = []\n",
    "for i in messages:\n",
    "    lens.append(len(messages[i].split()))"
   ]
  },
  {
   "cell_type": "code",
   "execution_count": 41,
   "metadata": {},
   "outputs": [
    {
     "name": "stdout",
     "output_type": "stream",
     "text": [
      "414.1917\n"
     ]
    }
   ],
   "source": [
    "import numpy as np\n",
    "print(np.mean(lens))"
   ]
  },
  {
   "cell_type": "code",
   "execution_count": 45,
   "metadata": {},
   "outputs": [
    {
     "data": {
      "image/png": "[encoded data removed]",
      "text/plain": [
       "<matplotlib.figure.Figure at 0x1f46bb3ee10>"
      ]
     },
     "metadata": {
      "needs_background": "light"
     },
     "output_type": "display_data"
    }
   ],
   "source": [
    "from matplotlib import pyplot as plt\n",
    "\n",
    "plt.hist(lens, bins=100, range=(1, 3000))\n",
    "plt.axvline(x=np.mean(lens), color='r', linestyle='-')\n",
    "\n",
    "plt.title('Lengths of conversations')\n",
    "\n",
    "plt.xlabel('Number of words in conversation')\n",
    "plt.ylabel('Number of conversations')\n",
    "\n",
    "plt.show()"
   ]
  },
  {
   "cell_type": "code",
   "execution_count": 10,
   "metadata": {},
   "outputs": [],
   "source": [
    "#words = word_tokenize(messages[13850823877])\n",
    "#words = messages[13850823877].split(\" \")\n",
    "lemmatizer = WordNetLemmatizer()\n",
    "\n",
    "lemmas = []\n",
    "\n",
    "for key, value in messages.items():\n",
    "    words = word_tokenize(value)\n",
    "    lem = []\n",
    "    for word in words:\n",
    "        lemma = lemmatizer.lemmatize(word)\n",
    "        if len(lemma) > 1:\n",
    "            lem.append(lemma.lower())\n",
    "    lem = [w for w in lem if not w in stop_words]\n",
    "    lemmas.append(lem)\n",
    "    \n",
    "#print(lemmas)"
   ]
  },
  {
   "cell_type": "code",
   "execution_count": 31,
   "metadata": {},
   "outputs": [],
   "source": [
    "import json\n",
    "\n",
    "with open(\"lemmas_per_msg.txt\", \"w\", encoding=\"UTF-8\") as f:\n",
    "    f.write(str(lemmas))"
   ]
  },
  {
   "cell_type": "code",
   "execution_count": 39,
   "metadata": {},
   "outputs": [
    {
     "ename": "MemoryError",
     "evalue": "",
     "output_type": "error",
     "traceback": [
      "\u001b[1;31m---------------------------------------------------------------------------\u001b[0m",
      "\u001b[1;31mMemoryError\u001b[0m                               Traceback (most recent call last)",
      "\u001b[1;32m<ipython-input-39-2c571ebd7c6f>\u001b[0m in \u001b[0;36m<module>\u001b[1;34m\u001b[0m\n\u001b[0;32m      1\u001b[0m \u001b[1;32mwith\u001b[0m \u001b[0mopen\u001b[0m\u001b[1;33m(\u001b[0m\u001b[1;34m\"lemmas_per_msg.txt\"\u001b[0m\u001b[1;33m,\u001b[0m \u001b[1;34m\"r\"\u001b[0m\u001b[1;33m,\u001b[0m \u001b[0mencoding\u001b[0m\u001b[1;33m=\u001b[0m\u001b[1;34m\"UTF-8\"\u001b[0m\u001b[1;33m)\u001b[0m \u001b[1;32mas\u001b[0m \u001b[0mf\u001b[0m\u001b[1;33m:\u001b[0m\u001b[1;33m\u001b[0m\u001b[1;33m\u001b[0m\u001b[0m\n\u001b[1;32m----> 2\u001b[1;33m     \u001b[0mall_lems\u001b[0m \u001b[1;33m=\u001b[0m \u001b[0mjson\u001b[0m\u001b[1;33m.\u001b[0m\u001b[0mloads\u001b[0m\u001b[1;33m(\u001b[0m\u001b[0mf\u001b[0m\u001b[1;33m.\u001b[0m\u001b[0mread\u001b[0m\u001b[1;33m(\u001b[0m\u001b[1;33m)\u001b[0m\u001b[1;33m)\u001b[0m\u001b[1;33m[\u001b[0m\u001b[1;33m:\u001b[0m\u001b[1;36m10\u001b[0m\u001b[1;33m]\u001b[0m\u001b[1;33m\u001b[0m\u001b[1;33m\u001b[0m\u001b[0m\n\u001b[0m",
      "\u001b[1;31mMemoryError\u001b[0m: "
     ]
    }
   ],
   "source": [
    "with open(\"lemmas_per_msg.txt\", \"r\", encoding=\"UTF-8\") as f:\n",
    "    all_lems = json.loads(f.read())"
   ]
  },
  {
   "cell_type": "code",
   "execution_count": 14,
   "metadata": {},
   "outputs": [],
   "source": [
    "import csv\n",
    "\n",
    "with open(\"lemmas_per_message.csv\", \"w\", newline=\"\", encoding=\"UTF-8\") as f:\n",
    "    writer = csv.writer(f)\n",
    "    writer.writerows(lemmas)"
   ]
  },
  {
   "cell_type": "code",
   "execution_count": 42,
   "metadata": {},
   "outputs": [],
   "source": [
    "all_lems = []\n",
    "\n",
    "for lem_list in lemmas:\n",
    "    all_lems.extend(lem_list)"
   ]
  },
  {
   "cell_type": "code",
   "execution_count": 43,
   "metadata": {},
   "outputs": [
    {
     "data": {
      "text/plain": [
       "63879201"
      ]
     },
     "execution_count": 43,
     "metadata": {},
     "output_type": "execute_result"
    }
   ],
   "source": [
    "len(all_lems)"
   ]
  },
  {
   "cell_type": "code",
   "execution_count": 44,
   "metadata": {},
   "outputs": [],
   "source": [
    "from collections import Counter\n",
    "\n",
    "counter = Counter(all_lems).most_common()"
   ]
  },
  {
   "cell_type": "code",
   "execution_count": 48,
   "metadata": {},
   "outputs": [],
   "source": [
    "stop_words_from_freq = [\"pipedrive\", \"please\", \"help\", \"know\", \"let\", \"see\", \"'s\", \"need\", \"would\", \"question\", \"``\", \"day\", \"get\", \"one\", \"possible\", \"feel\", \"wa\", \"''\", \"ha\", \"want\", \"like\", \"thank\", \"already\", \"yes\", \"ok\", \"done\", \"still\", \"great\", \"could\", \"soon\", \"also\", \"anything\", \"well\", \"right\", \"sure\", \"um\", \"else\"]"
   ]
  },
  {
   "cell_type": "code",
   "execution_count": 47,
   "metadata": {},
   "outputs": [
    {
     "data": {
      "text/plain": [
       "[('pipedrive', 780159),\n",
       " ('email', 749638),\n",
       " ('please', 687356),\n",
       " ('de', 584432),\n",
       " ('help', 479071),\n",
       " ('que', 437400),\n",
       " ('know', 429416),\n",
       " ('let', 377103),\n",
       " ('see', 370987),\n",
       " ('user', 361913),\n",
       " ('deal', 354809),\n",
       " ('need', 348723),\n",
       " (\"'s\", 346158),\n",
       " ('support', 339690),\n",
       " ('account', 336068),\n",
       " ('would', 282750),\n",
       " ('question', 282608),\n",
       " ('``', 281788),\n",
       " ('day', 277061),\n",
       " ('get', 275663),\n",
       " ('one', 267506),\n",
       " ('possible', 263021),\n",
       " ('issue', 257077),\n",
       " ('free', 256940),\n",
       " ('new', 248524),\n",
       " ('conversation', 247319),\n",
       " ('feel', 247217),\n",
       " ('contact', 245144),\n",
       " ('case', 240409),\n",
       " ('wa', 239596),\n",
       " (\"''\", 236332),\n",
       " ('team', 235009),\n",
       " ('sync', 231864),\n",
       " ('para', 231534),\n",
       " ('time', 223488),\n",
       " ('ha', 221965),\n",
       " ('want', 221313),\n",
       " ('like', 213633),\n",
       " ('thank', 213049),\n",
       " ('message', 210822),\n",
       " ('back', 209752),\n",
       " ('check', 198139),\n",
       " ('already', 183055),\n",
       " ('yes', 181922),\n",
       " ('por', 181487),\n",
       " ('done', 180979),\n",
       " ('still', 179809),\n",
       " ('great', 179314),\n",
       " ('reply', 178924),\n",
       " ('se', 177434),\n",
       " ('could', 176594),\n",
       " ('ok', 174860),\n",
       " ('detail', 173769),\n",
       " ('soon', 172420),\n",
       " ('also', 163615),\n",
       " ('anything', 161576),\n",
       " ('hope', 159538),\n",
       " ('well', 158806),\n",
       " ('field', 157565),\n",
       " ('right', 156207),\n",
       " ('able', 155891),\n",
       " ('customer', 154722),\n",
       " ('não', 151974),\n",
       " ('um', 150253),\n",
       " ('send', 149120),\n",
       " ('activity', 146910),\n",
       " ('delay', 144160),\n",
       " ('query', 140349),\n",
       " ('sure', 136634),\n",
       " ('way', 136350),\n",
       " ('else', 134070),\n",
       " ('apology', 133880),\n",
       " ('sent', 133767),\n",
       " ('try', 133287),\n",
       " ('look', 132897),\n",
       " ('em', 128876),\n",
       " ('change', 128102),\n",
       " ('update', 126880),\n",
       " ('link', 125938),\n",
       " ('open', 125865),\n",
       " ('data', 125788),\n",
       " ('agent', 125636),\n",
       " ('reaching', 125539),\n",
       " ('make', 125407),\n",
       " ('working', 124811),\n",
       " ('company', 123759),\n",
       " ('information', 123152),\n",
       " ('name', 121574),\n",
       " ('feature', 121216),\n",
       " ('assist', 120356),\n",
       " ('ask', 119715),\n",
       " ('com', 118884),\n",
       " ('explain', 117632),\n",
       " ('create', 117542),\n",
       " ('find', 117332),\n",
       " ('use', 117253),\n",
       " ('best', 116611),\n",
       " ('add', 116304),\n",
       " ('note', 115029),\n",
       " ('da', 114374)]"
      ]
     },
     "execution_count": 47,
     "metadata": {},
     "output_type": "execute_result"
    }
   ],
   "source": [
    "counter[:100]"
   ]
  },
  {
   "cell_type": "code",
   "execution_count": 49,
   "metadata": {},
   "outputs": [],
   "source": [
    "new_lemmas = []\n",
    "\n",
    "for lem_list in lemmas:\n",
    "    new_lemmas.append([word for word in lem_list if word not in stop_words_from_freq])"
   ]
  },
  {
   "cell_type": "code",
   "execution_count": 52,
   "metadata": {},
   "outputs": [],
   "source": [
    "with open(\"new_lems.txt\", \"w\", encoding=\"UTF-8\") as f:\n",
    "    #for l in new_lemmas:\n",
    "    f.write(str(new_lemmas))"
   ]
  },
  {
   "cell_type": "code",
   "execution_count": 55,
   "metadata": {},
   "outputs": [
    {
     "ename": "MemoryError",
     "evalue": "",
     "output_type": "error",
     "traceback": [
      "\u001b[1;31m---------------------------------------------------------------------------\u001b[0m",
      "\u001b[1;31mMemoryError\u001b[0m                               Traceback (most recent call last)",
      "\u001b[1;32m<ipython-input-55-0a752b7cf934>\u001b[0m in \u001b[0;36m<module>\u001b[1;34m\u001b[0m\n\u001b[0;32m      1\u001b[0m \u001b[1;32mwith\u001b[0m \u001b[0mopen\u001b[0m\u001b[1;33m(\u001b[0m\u001b[1;34m\"lemmas_per_msg.txt\"\u001b[0m\u001b[1;33m,\u001b[0m \u001b[1;34m\"r\"\u001b[0m\u001b[1;33m,\u001b[0m \u001b[0mencoding\u001b[0m\u001b[1;33m=\u001b[0m\u001b[1;34m\"UTF-8\"\u001b[0m\u001b[1;33m)\u001b[0m \u001b[1;32mas\u001b[0m \u001b[0mf\u001b[0m\u001b[1;33m:\u001b[0m\u001b[1;33m\u001b[0m\u001b[1;33m\u001b[0m\u001b[0m\n\u001b[1;32m----> 2\u001b[1;33m     \u001b[0mall_lems_new\u001b[0m \u001b[1;33m=\u001b[0m \u001b[0mf\u001b[0m\u001b[1;33m.\u001b[0m\u001b[0mread\u001b[0m\u001b[1;33m(\u001b[0m\u001b[1;33m)\u001b[0m\u001b[1;33m\u001b[0m\u001b[1;33m\u001b[0m\u001b[0m\n\u001b[0m",
      "\u001b[1;31mMemoryError\u001b[0m: "
     ]
    }
   ],
   "source": [
    "with open(\"lemmas_per_msg.txt\", \"r\", encoding=\"UTF-8\") as f:\n",
    "    all_lems_new = f.read()"
   ]
  },
  {
   "cell_type": "code",
   "execution_count": null,
   "metadata": {},
   "outputs": [],
   "source": []
  },
  {
   "cell_type": "code",
   "execution_count": 54,
   "metadata": {},
   "outputs": [],
   "source": [
    "import csv\n",
    "\n",
    "with open(\"new_lems.csv\", \"w\", newline=\"\", encoding=\"UTF-8\") as f:\n",
    "    writer = csv.writer(f)\n",
    "    writer.writerows(new_lemmas)"
   ]
  },
  {
   "cell_type": "markdown",
   "metadata": {},
   "source": [
    "---"
   ]
  },
  {
   "cell_type": "code",
   "execution_count": null,
   "metadata": {},
   "outputs": [],
   "source": [
    "lemmas[7]"
   ]
  },
  {
   "cell_type": "code",
   "execution_count": null,
   "metadata": {},
   "outputs": [],
   "source": [
    "from sklearn.feature_extraction.text import CountVectorizer"
   ]
  },
  {
   "cell_type": "code",
   "execution_count": null,
   "metadata": {},
   "outputs": [],
   "source": [
    "vectorizer = CountVectorizer()"
   ]
  },
  {
   "cell_type": "code",
   "execution_count": null,
   "metadata": {},
   "outputs": [],
   "source": [
    "texts = [\" \".join(text) for text in lemmas]"
   ]
  },
  {
   "cell_type": "code",
   "execution_count": null,
   "metadata": {},
   "outputs": [],
   "source": [
    "X = vectorizer.fit_transform(texts)"
   ]
  },
  {
   "cell_type": "code",
   "execution_count": null,
   "metadata": {},
   "outputs": [],
   "source": [
    "from sklearn.decomposition import LatentDirichletAllocation"
   ]
  },
  {
   "cell_type": "code",
   "execution_count": 164,
   "metadata": {},
   "outputs": [],
   "source": [
    "lda = LatentDirichletAllocation()"
   ]
  },
  {
   "cell_type": "code",
   "execution_count": 165,
   "metadata": {},
   "outputs": [
    {
     "data": {
      "text/plain": [
       "LatentDirichletAllocation(batch_size=128, doc_topic_prior=None,\n",
       "             evaluate_every=-1, learning_decay=0.7,\n",
       "             learning_method='batch', learning_offset=10.0,\n",
       "             max_doc_update_iter=100, max_iter=10, mean_change_tol=0.001,\n",
       "             n_components=10, n_jobs=None, n_topics=None, perp_tol=0.1,\n",
       "             random_state=None, topic_word_prior=None,\n",
       "             total_samples=1000000.0, verbose=0)"
      ]
     },
     "execution_count": 165,
     "metadata": {},
     "output_type": "execute_result"
    }
   ],
   "source": [
    "lda.fit(X)"
   ]
  },
  {
   "cell_type": "code",
   "execution_count": 173,
   "metadata": {},
   "outputs": [
    {
     "data": {
      "text/plain": [
       "array([[0.00588294, 0.00588363, 0.1753002 , 0.00588639, 0.00588261,\n",
       "        0.00588392, 0.55635633, 0.22715739, 0.00588237, 0.00588421],\n",
       "       [0.01429144, 0.01428574, 0.01428746, 0.01429047, 0.01428584,\n",
       "        0.01428583, 0.87141186, 0.0142899 , 0.01428571, 0.01428575],\n",
       "       [0.03333527, 0.03333413, 0.03333583, 0.03333419, 0.03333354,\n",
       "        0.03333423, 0.69998722, 0.03333763, 0.03333333, 0.03333464],\n",
       "       [0.34859132, 0.00094342, 0.00094344, 0.00094413, 0.00094343,\n",
       "        0.00094347, 0.51501567, 0.1297883 , 0.00094341, 0.00094342],\n",
       "       [0.02000186, 0.02000112, 0.02000064, 0.02000008, 0.02000004,\n",
       "        0.02000004, 0.81999219, 0.0200039 , 0.02      , 0.02000014]])"
      ]
     },
     "execution_count": 173,
     "metadata": {},
     "output_type": "execute_result"
    }
   ],
   "source": [
    "lda.transform(X[:5])"
   ]
  },
  {
   "cell_type": "code",
   "execution_count": 168,
   "metadata": {},
   "outputs": [
    {
     "name": "stdout",
     "output_type": "stream",
     "text": [
      "['im', 'also', 'talking', 'ot', 'guy', 'lll', 'jejfiabfiabg', 'hm', 'riley', 'young', 'linked', 'se-', 'blank', 'email', 'thread', 'subject']\n",
      "['guys', 'please', 'help', 'customer', 'come', 'back']\n",
      "['record', 'video']\n",
      "['hello', 'trouble', 'connecting', 'zapier', 'drag', 'across', 'email', 'mobile', 'number', 'pipedrive', 'zapier', 'issue', 'time', 'available', 'chat', 'please', 'advise', 'time', 'help', 'desk', 'open', 'australia', 'zapier', 'allow', 'transfer', 'field', 'data', 'first', 'last', 'name', 'phone', 'number', 'email', 'get', 'work', 'terminate', 'pipedrive', 'appears', 'either', 'set', 'person', 'deal', 'reply', 'could', 'find', 'one', 'recent', 'conversation', 'support', 'none', 'related', 'zapier', 'afraid', 'send', 'something', 'proactively', 'without', 'sure', 'leave', 'come', 'back', 'answer', 'automatic', 'work', 'flow', 'template', 'setup', 'please', 'advise', 'change', 'sending', 'email', 'contacting', 'technical', 'question', 'would', 'need', 'check', 'information', 'could', 'contact', 'support', 'team', 'via', 'e-mail', 'also', 'available', 'live', 'chat', 'following', 'step', 'facebook', 'allow', 'answer', 'within', 'send', 'message', 'apology', 'time', 'get', 'answer', 'meanwhile', 'wish', 'great', 'day']\n",
      "['view', 'browser', 'view', 'browser']\n"
     ]
    }
   ],
   "source": [
    "for i in lemmas[:5]:\n",
    "    print(i)"
   ]
  },
  {
   "cell_type": "code",
   "execution_count": 172,
   "metadata": {},
   "outputs": [
    {
     "name": "stdout",
     "output_type": "stream",
     "text": [
      "['need', 'add', 'user', 'pipedrive', 'account', 'reaching', 'pipedrive', 'support', 'please', 'find', 'information', 'add', 'user', 'checking', 'see', 'question', 'require', 'help', 'please', 'feel', 'free', 'reply', 'open', 'new', 'conversation', 'get', 'touch', 'another', 'support', 'member', 'great', 'day']\n"
     ]
    }
   ],
   "source": [
    "print(lemmas[7])"
   ]
  },
  {
   "cell_type": "markdown",
   "metadata": {},
   "source": [
    "---"
   ]
  },
  {
   "cell_type": "code",
   "execution_count": 1,
   "metadata": {},
   "outputs": [],
   "source": [
    "import nltk"
   ]
  },
  {
   "cell_type": "code",
   "execution_count": 2,
   "metadata": {},
   "outputs": [],
   "source": [
    "#nltk.download('crubadan')\n",
    "tc = nltk.classify.textcat.TextCat() "
   ]
  },
  {
   "cell_type": "code",
   "execution_count": 4,
   "metadata": {},
   "outputs": [
    {
     "name": "stdout",
     "output_type": "stream",
     "text": [
      "Collecting pycountry\n",
      "  Downloading https://files.pythonhosted.org/packages/76/73/6f1a412f14f68c273feea29a6ea9b9f1e268177d32e0e69ad6790d306312/pycountry-20.7.3.tar.gz (10.1MB)\n",
      "Building wheels for collected packages: pycountry\n",
      "  Building wheel for pycountry (setup.py): started\n",
      "  Building wheel for pycountry (setup.py): finished with status 'done'\n",
      "  Stored in directory: C:\\Users\\Birgit\\AppData\\Local\\pip\\Cache\\wheels\\33\\4e\\a6\\be297e6b83567e537bed9df4a93f8590ec01c1acfbcd405348\n",
      "Successfully built pycountry\n",
      "Installing collected packages: pycountry\n",
      "Successfully installed pycountry-20.7.3\n"
     ]
    }
   ],
   "source": [
    "!pip install pycountry"
   ]
  },
  {
   "cell_type": "code",
   "execution_count": 5,
   "metadata": {},
   "outputs": [],
   "source": [
    "import pycountry"
   ]
  },
  {
   "cell_type": "code",
   "execution_count": 11,
   "metadata": {},
   "outputs": [
    {
     "data": {
      "text/plain": [
       "[\"question. I wanted to send out a group email. Just want to make sure; For the respondents, there is no difference for them if I sent the emails individually it's simply sending the same email again and again to a group of people, right?\",\n",
       " \"Pipedrive Support Bot here! Ask me any question about Pipedrive and I'll be happy to assist you 😊 Although I am a bot, I'll do as best as I can to solve your queries. If there's something I don't understand I'll direct you to my team members.\",\n",
       " 'You can send an email to large groups of your leads using our Group Emailing function. It is available in the following places: The List View of the Deals tab The List View of the Contacts tab The List View of the Activities tab The Timeline view of the Contacts tab You can select up to one hundred contacts when sending one email. Once multiple contacts are selected in any of the places listed above, the Send group email button will appear. Once you click this button, you will be prompted to provide the relevant details about the email you wish to send to that group of contacts. Afterwards, click the Send message button. You can find more details of this feature here: Group Emailing',\n",
       " 'I am following up to let you know that I am still here to help you. Please let me know if I can further assist you and feel free to fire your questions my way. If not, please type \"1\" to close this conversation. 😊 1) My issue is resolved 2) Chat with human',\n",
       " 'Got it. I am directing you to our support team now and one of my human colleagues will be with you shortly to look into this.',\n",
       " 'NOTE this conversation has been escalated by Percept AI agent. If you want to update its reply, please visit this link: (this is a private message only visible to internal CS team)',\n",
       " '👋',\n",
       " 'hi!',\n",
       " 'The Group Emailing feature sends out the same email message to up to contacts by clicking once in the \"send\" button, but each of those emails will be send separately. Does it make sense?',\n",
       " 'Makes perfect sense 👍',\n",
       " 'Good 😊 Can I help with anything else for now?',\n",
       " 'Hi I have another open ticket but the person in charge is set as away. Is there any chance someone else can take a look at it? Not sure how this support thing works',\n",
       " 'It',\n",
       " 'it is a bit urgent for us and it',\n",
       " 'is related to a bug',\n",
       " \"My shift has just started, so the time you've waited. I can see that you've described to Christian that your signature is being sent twice. Is that it?\",\n",
       " 'for getting back to me. That',\n",
       " 'is the one I am talking about, yet.',\n",
       " \"however it's not the exact problem\",\n",
       " 'the images are getting overwritten with other images',\n",
       " 'in the bottom part of the message that acts like a signature. it',\n",
       " \"it's a signature but it's not set up as a signature if you know what i mean\",\n",
       " 'the explanation. Are you sending the emails through Pipedrive?',\n",
       " 'If so. Are you using email templates and the \"signature\" option in the Mail composer?',\n",
       " 'If so, are you*',\n",
       " 'Yes, sending with pipedrive, group email function',\n",
       " 'don',\n",
       " 'don',\n",
       " 'sorry silly keyboard',\n",
       " \"don't use it as signature as i explained\",\n",
       " 'just put everything into the main template',\n",
       " 'The weird thing is that the group of i sent to, were fine, and two of them had the bug. Same batch of sending',\n",
       " 'so it is clearly a bug',\n",
       " 'if you look at screenshots i sent to Christian you will see what i mean.',\n",
       " 'saw it, yes. Can you please send a screenshot of your mail composer? Like this:',\n",
       " 'like this?',\n",
       " 'Yes, thanks!',\n",
       " \"I can see that you're using an email template.\",\n",
       " 'yes',\n",
       " \"Can you please check in the mail composer of your Mail tab there's a signature set? I made this GIF to show you where/how to do it:\",\n",
       " 'no, the field is empty. I used one before but I deleted it as it was better to put everything into the email body',\n",
       " 'checking. Can you please make a test: select this email template; remove the signature part; send me the email: advance!',\n",
       " 'how do I have to add you as a contact first? or can I just type in your email',\n",
       " 'You can just type my email.',\n",
       " 'ok',\n",
       " 'Thanks!',\n",
       " 'sending now',\n",
       " 'without the signature bit',\n",
       " 'Thanks!',\n",
       " 'I just got it, with no signature at all.',\n",
       " 'Can you please send another one with the full email template?',\n",
       " 'you said without the signature, right? ok will send one now with the full template',\n",
       " 'just sent it',\n",
       " 'i am on the train so got a variable connection',\n",
       " 'will try and keep up with whatever you need',\n",
       " 'Yes, I did said. Just to see how it gets without the signature on the email template.',\n",
       " 'cool',\n",
       " \"I got the second email now and it's okay with just one signature.\",\n",
       " 'I know checked the email in the sent folder',\n",
       " 'You said only a some of your contacts received it with two signatures, right?',\n",
       " 'but sometimes it does it and sometimes not',\n",
       " 'I will send you one more to check if happens',\n",
       " 'done but also this one is good',\n",
       " 'not often I want a bug to happen',\n",
       " 'but I do now!',\n",
       " 'would it help if I forward you an email I sent to myself to my gmail account? it has the bug',\n",
       " 'A screenshot of it, please. Also, can you please send me examples (full screenshots showing the URL link) of contacts that got the email with the double signature?',\n",
       " 'ok',\n",
       " 'Thanks!',\n",
       " \"it's not double signatures\",\n",
       " 'it i an image overwriting another image',\n",
       " 'this screenshot shows you both things. The bug AND the contact. it',\n",
       " 'it is from the \"sent\" folder',\n",
       " 'Thanks!',\n",
       " 'Can you please send me full screenshots of the contact-person \"Are Andreassen\"?',\n",
       " 'too big for showing all the info on the screen. this is enough i hope',\n",
       " \"It's more than enough. Thank you 😊\",\n",
       " \"I will escalate this case to our engineers to t investigate what might be happening. It usually takes around hours to hear back from them, but considering that tomorrow is weekend, I'll probably get information from Monday on. In any case, I will let you know as soon as I get.\",\n",
       " \"ok and you don't have a suggestion for a workaround? Guess I have to remove one picture but it is really not a good solution\",\n",
       " 'Have to send out emails on tuesday at the very latest',\n",
       " 'As workaround I would suggest not using the Group Emailing feature and manually remove and add the picture.',\n",
       " 'I tried sending it to me individually and it still happened. I am going to remove my picture and keep the logo which has to be in there.',\n",
       " 'have a nice weekend and the help',\n",
       " 'This is good to know, that means that is not related to the Group Emailing feature. it! Have a great weekend 😊',\n",
       " \"Christian Hansen user reached out on my convo. i've escalated the case to the engineers 😉\",\n",
       " 'This note was deleted',\n",
       " 'Jaan Mölder has given this ticket has a new status: In progress Comment: null',\n",
       " 'Jaan Mölder Closed your case with comment: DONE Please ask user to check all the email templets and remove any copy pasted signature from them as t added separately when template is used. Ping me in case of questions.',\n",
       " \"{{name}}, Hope you're good. Our engineer asked you to check all the email templates and remove any copy pasted signature from them, as t added separately when template is used. After that, please let me know if you find any errors. advance!\",\n",
       " 'Not sure I understand. I should remove the signature as it is added separately? I don’t use the signature field. Please could you give me a detailed step by step on what I need to do in order to fix it? The devil’s in the detail {{name}} {{name}} CBDO {{name}} {{name}} {{name}} M. {{number}} E. W. IN. A. Jakobsoni {{number}}, Viljandi, ESTONIA',\n",
       " 'Actually I don’t really understand this. Are you saying I need to check all the templates? Will signatures from other templates overwrite the template I am using, even though the one I am using does NOT use a signature? {{name}} {{name}} CBDO {{name}} {{name}} {{name}} M. {{number}} E. W. IN. A. Jakobsoni {{number}}, Viljandi, ESTONIA',\n",
       " 'I have re-read you email again, trying to understand. It looks like you are under the impression that it has to do with a double signature, i.e. the signature is added again automatically when you use a template. Is that the case? {{name}} {{name}} CBDO {{name}} {{name}} {{name}} M. {{number}} E. W. IN. A. Jakobsoni {{number}}, Viljandi, ESTONIA',\n",
       " \"{{name}}, Hope this message finds you well. Our engineer made a review on your account on his side and at first didn't find any issues. He asked you to review all the templates and remove any copy pasted signature on them. I did explain to him that there's no signature set up in the email composer.\",\n",
       " 'This is confusing. Should I remove all signatures from all templates? Then I don’t have a signature in my emails! That does not make sense. Do you mean I shoud delete all signatures from the templates and replace them with the same code input into the signature field? That’s not what I have been told but I am just going to assume it’s what I need to do.',\n",
       " \"{{name}}, Apologies for not being so clear before. He only asked you to delete the signatures of the templates. But, yes, you need to add them back or use the signature option of the mail composer, as it would be added automatically to all emails you'd send: If the issue keep happening after that, please let me know so I can tell the engineer. advance.\",\n",
       " 'Ok, do. {{name}}',\n",
       " '{{name}}, please let me know if this worked. Have a great weekend in the meantime!',\n",
       " \"hello :) this user was sending out emails with a template and some of the contacts received the email with two pictures/signature. i've escalated the case to the engineers and jaan asked user to remove all copy pasted signature from them to check if works. since user doesn't have a signature on the mail composer, i told him that he can later re-add the signature or create a signature on the mail composer. in case he reaches back saying that the issue isn't fixed, please {{name}} jaan.\",\n",
       " \"Hope you're good. Passing to check if everything's ok. Do you still need help with this situation? Please let me know if I can help with anything else.\",\n",
       " \"checking in with me. I feel like I have already spent too much time on this and that your team should have enough information to test for yourselves by putting two images into the tool and sending emails to yourselves to see if this happens. I simply don't have time for it and am going to use only one image when I send out email even if it is well below ideal.\",\n",
       " 'slacked jaan',\n",
       " \"{{name}}, I'm sorry that you feel this way. The engineers just ask you to do this as a troubleshooting step. In any case, I've ask him to try give a further look on it, despite this step. I will keep you updated 🙇\",\n",
       " '{{name}}, Hope this message finds you well. The engineer believes that it would be better if you create new signature using the formatting options available in Pipedrive, because copied-pasted signatures can cause issues. He checked the database and saw same the text as in the duplicate signature. And asked you to please share with us a screenshot of the signature field in your mail composer. I made this GIF to show you where to do it: advance!',\n",
       " '{{name}}. I just wanted to circle back with you and let you know we are still here if you still need help with this situation. You can always come back to this conversation or begin a new chat as well with us regarding any new questions to get the most immediate response. Have a great day!',\n",
       " 'will do.',\n",
       " '🙇']"
      ]
     },
     "execution_count": 11,
     "metadata": {},
     "output_type": "execute_result"
    }
   ],
   "source": [
    "naide = df[df[\"topic\"] != '']['messages'].iloc[0]\n",
    "naide"
   ]
  },
  {
   "cell_type": "code",
   "execution_count": 12,
   "metadata": {},
   "outputs": [
    {
     "data": {
      "text/plain": [
       "106"
      ]
     },
     "execution_count": 12,
     "metadata": {},
     "output_type": "execute_result"
    }
   ],
   "source": [
    "len(naide)"
   ]
  },
  {
   "cell_type": "code",
   "execution_count": 21,
   "metadata": {},
   "outputs": [
    {
     "name": "stdout",
     "output_type": "stream",
     "text": [
      "--- 57.480953216552734 seconds ---\n"
     ]
    }
   ],
   "source": [
    "import time\n",
    "start_time = time.time()\n",
    "\n",
    "languages = []\n",
    "\n",
    "for n in naide:\n",
    "    #print(type(n))\n",
    "    guess_one = tc.guess_language(n)\n",
    "    guess_one_name = pycountry.languages.get(alpha_3=guess_one)\n",
    "    if guess_one_name is None:\n",
    "        continue\n",
    "    languages.append(guess_one_name.name)\n",
    "    \n",
    "print(\"--- %s seconds ---\" % (time.time() - start_time))"
   ]
  },
  {
   "cell_type": "code",
   "execution_count": 30,
   "metadata": {},
   "outputs": [
    {
     "name": "stdout",
     "output_type": "stream",
     "text": [
      "--- 0.600996732711792 seconds ---\n"
     ]
    }
   ],
   "source": [
    "start_time2 = time.time()\n",
    "\n",
    "languages2 = []\n",
    "\n",
    "for n in naide:\n",
    "    try:\n",
    "        lang = detect(n)\n",
    "        languages2.append(lang)\n",
    "    except:\n",
    "        continue\n",
    "    \n",
    "print(\"--- %s seconds ---\" % (time.time() - start_time2))"
   ]
  }
 ],
 "metadata": {
  "kernelspec": {
   "display_name": "Python 3",
   "language": "python",
   "name": "python3"
  },
  "language_info": {
   "codemirror_mode": {
    "name": "ipython",
    "version": 3
   },
   "file_extension": ".py",
   "mimetype": "text/x-python",
   "name": "python",
   "nbconvert_exporter": "python",
   "pygments_lexer": "ipython3",
   "version": "3.7.3"
  }
 },
 "nbformat": 4,
 "nbformat_minor": 2
}
